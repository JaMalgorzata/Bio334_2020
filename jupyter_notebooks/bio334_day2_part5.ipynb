{
 "cells": [
  {
   "cell_type": "markdown",
   "metadata": {},
   "source": [
    "# Bio334 Practical Bioinformatics\n",
    "\n",
    "Exercise\n",
    "13-15, May, 2020\n",
    "\n",
    "## Masaomi Hatakeyama\n",
    "- gihub https://github.com/masaomi/Bio334_2020\n",
    "- TAs: Gwyneth Halstead-Nussloch, Stefan Milosavljevic, Moeko Okada"
   ]
  },
  {
   "cell_type": "markdown",
   "metadata": {},
   "source": [
    "# Day2 Part5\n",
    "\n",
    "Batch process, module, and *A. kamchatica* homoeolog Tajima's D\n",
    "\n"
   ]
  },
  {
   "cell_type": "code",
   "execution_count": null,
   "metadata": {},
   "outputs": [],
   "source": [
    "import IPython.display\n",
    "IPython.display.Audio(\"voice/day2_part5.mp3\")"
   ]
  },
  {
   "cell_type": "markdown",
   "metadata": {
    "slideshow": {
     "slide_type": "notes"
    }
   },
   "source": [
    "As the final part today, I will give you another techinique to improve reusability again, before introducing the exercise.\n",
    "\n",
    "But if you have not finished the Tajima's D implementation yet, please focus on and continue it.\n",
    "\n",
    "In the actual situation, normally, we calcualte a lot of samples, not only one dataset of sequences. In such a situation, we  have to use the same programming code many times to different datasets. You could imagine 100 times executions of the same programming code. \n",
    "\n",
    "\n",
    "There is a typical way to run 100 jobs at once. It is called batch process. I will show you two examples to do the batch process here. The first example uses a shell script, another example uses a python script."
   ]
  },
  {
   "cell_type": "markdown",
   "metadata": {},
   "source": [
    "# Why programming?\n",
    "\n",
    "* **Reusability**: Reproducibility, you can calculate with just one command type again\n",
    "* **Batch process**: Automation, computer can work while you are sleeping\n",
    "* **Understanding**: It helps you to learn algorithms, logics behind a problem, and it improves your logical thinking ability\n",
    "* **Computer simulation**\n",
    "\n",
    "\n"
   ]
  },
  {
   "cell_type": "markdown",
   "metadata": {},
   "source": [
    "# Batch process (Shell script)\n",
    "\n",
    "        #!/bin/sh\n",
    "        python script.py job1\n",
    "        python script.py job2\n",
    "        python script.py job3\n",
    "\n",
    "* Execution of several jobs sequentially\n",
    "\n"
   ]
  },
  {
   "cell_type": "code",
   "execution_count": null,
   "metadata": {},
   "outputs": [],
   "source": [
    "IPython.display.Audio(\"voice/shell_script.mp3\")"
   ]
  },
  {
   "cell_type": "markdown",
   "metadata": {
    "slideshow": {
     "slide_type": "notes"
    }
   },
   "source": [
    "The first example is using a shell script to run three different jobs but it uses the same python script. In other words, once you make a shell script, a lot of python jobs can run at once.\n",
    "\n",
    "The difference in each job is the input fasta file."
   ]
  },
  {
   "cell_type": "markdown",
   "metadata": {},
   "source": [
    "# Example1\n",
    "\n",
    "batch shell script\n",
    "\n",
    "      $ cat day2_6_example1.sh\n",
    "      python day2_1_exercise1.py athal_chr1.fa\n",
    "      python day2_1_exercise1.py athal_chr2.fa\n",
    "      python day2_1_exercise1.py athal_chr3.fa\n",
    "\n",
    "      $ sh day2_6_example1.sh\n",
    "      genome size = 30427671 bp\n",
    "      genome size = 19698289 bp\n",
    "      genome size = 23459830 bp\n",
    "\n"
   ]
  },
  {
   "cell_type": "code",
   "execution_count": null,
   "metadata": {},
   "outputs": [],
   "source": [
    "IPython.display.Audio(\"voice/python_batch_script.mp3\")"
   ]
  },
  {
   "cell_type": "markdown",
   "metadata": {
    "slideshow": {
     "slide_type": "notes"
    }
   },
   "source": [
    "The second example is using a python script to do the same thing as the first example. \n",
    "\n",
    "In order to execute another python script in a python script, you can use *os.system()* method. This method can call an exertnal unix cmmand in a python script."
   ]
  },
  {
   "cell_type": "markdown",
   "metadata": {},
   "source": [
    "# Example2 \n",
    "\n",
    "batch python script\n",
    "\n",
    "      $ cat day2_6_example2.py\n",
    "      import glob\n",
    "      import os\n",
    "      for file in glob.glob(\"athal_chr*.fa\"):\n",
    "        command = \"python day2_1_exercise1.py \" + file\n",
    "        os.system(command)\n",
    "\n",
    "      $ python3 day2_6_example1.py\n",
    "      genome size = 30427671 bp\n",
    "      genome size = 19698289 bp\n",
    "      genome size = 23459830 bp\n",
    "\n"
   ]
  },
  {
   "cell_type": "markdown",
   "metadata": {},
   "source": [
    "# os module \n",
    "\n",
    "* Execute an external command (in a Python script)\n",
    "\n",
    "        import os\n",
    "        os.system(\"pwd\")\n",
    "\n"
   ]
  },
  {
   "cell_type": "markdown",
   "metadata": {},
   "source": [
    "# glob module\n",
    "\n",
    "* Get a file path (matching a pattern)\n",
    "\n",
    "        import glob\n",
    "        glob.glob(\"dir/*.fa\")  #=> return a list object that has all fasta file paths in dir\n",
    "\n"
   ]
  },
  {
   "cell_type": "markdown",
   "metadata": {},
   "source": [
    "# Mini-Summary\n",
    "\n",
    "* **Batch process**: several jobs (commands) run at once\n",
    "* The simplest way is to use a shell script\n",
    "* It can be done also in a Python script\n",
    "      - which means that it is possible to call a Python script in another Python script\n",
    "\n"
   ]
  },
  {
   "cell_type": "code",
   "execution_count": null,
   "metadata": {},
   "outputs": [],
   "source": [
    "IPython.display.Audio(\"voice/exercise_day2_part5.mp3\")"
   ]
  },
  {
   "cell_type": "markdown",
   "metadata": {
    "slideshow": {
     "slide_type": "notes"
    }
   },
   "source": [
    "I will explain the final exercise today.\n",
    "\n",
    "\n",
    "It is the real data published in 2016. The target species is *Arabidopsis kamchatica*. *Arabidopsis kamchatica* is an allo-tetraploid species which is polyploidized from *Arabidopsis halleri*, diploid, and *Arabidopsis lyrata*, diploid. So, *A. kamchatica* has two homologous gene sets derived from different species. Such gene is called **homeolog**.\n",
    "\n",
    "\n",
    "*A. halleri* is called hyper accumulator and it can live in highly toxic heavy metal environment such as mine, while *A. lyrata* cannot live in such a heavy metal environment.\n",
    "\n",
    "We investigated the nucleotide diversity around HMA4 gene, heavy metal atpase4, in *A. kamchatica*, particularly, compared the nucleotide diversity of the sub-genomes derived from *Arabidopsis halleri* and *lyrata*.\n",
    "\n",
    "\n",
    "Samples were collected mainly from Japan but including Alaska in the north, and Taiwan in the south.\n",
    "\n",
    "In this exercise, you calculate the nucleotide diversity of several genes around HMA4 in each subgenome. The gene sequences have been already aligned and saved in different files. So, you have to run several jobs.\n",
    "\n",
    "Please integrate and assemble all the knowledge that you have learnt until here and solve the problem."
   ]
  },
  {
   "cell_type": "markdown",
   "metadata": {},
   "source": [
    "# *Arabidopsis kamchatica* \n",
    "\n",
    "![ad](png/kamchatica1.png)\n",
    "\n"
   ]
  },
  {
   "cell_type": "markdown",
   "metadata": {},
   "source": [
    "# Samples\n",
    "\n",
    "![samples](png/samples.png)\n",
    "\n"
   ]
  },
  {
   "cell_type": "markdown",
   "metadata": {},
   "source": [
    "\n",
    "![experiment](png/experiment.png)\n",
    "\n"
   ]
  },
  {
   "cell_type": "markdown",
   "metadata": {},
   "source": [
    "\n",
    "# Homoeolog\n",
    "\n",
    "Duplicated gene pair\n",
    "\n",
    "![homeolog](png/homoeolog.png)\n",
    "\n"
   ]
  },
  {
   "cell_type": "markdown",
   "metadata": {},
   "source": [
    "# Pipeline HomeoRoq\n",
    "\n",
    "![homeoroq](png/ngs_homeoroq.png)\n",
    "\n",
    "\n",
    "- http://seselab.org/homeoroq/\n",
    "- Python and R\n",
    "\n"
   ]
  },
  {
   "cell_type": "markdown",
   "metadata": {},
   "source": [
    "\n",
    "![kam](png/kamchatica2.png)\n",
    "\n",
    "\n",
    "- Reference: [Tim, et. al, MBE., 2016](https://academic.oup.com/mbe/article/33/11/2781/2271619/Conserved-but-Attenuated-Parental-Gene-Expression)"
   ]
  },
  {
   "cell_type": "markdown",
   "metadata": {},
   "source": [
    "# Exercise Day2 Part5\n",
    "\n",
    "Batch process, shell script\n",
    "\n",
    "- https://gist.github.com/masaomi/29c3325edd802eadb61a213140f33c93"
   ]
  }
 ],
 "metadata": {
  "celltoolbar": "Slideshow",
  "kernelspec": {
   "display_name": "Python 3",
   "language": "python",
   "name": "python3"
  },
  "language_info": {
   "codemirror_mode": {
    "name": "ipython",
    "version": 3
   },
   "file_extension": ".py",
   "mimetype": "text/x-python",
   "name": "python",
   "nbconvert_exporter": "python",
   "pygments_lexer": "ipython3",
   "version": "3.8.2"
  }
 },
 "nbformat": 4,
 "nbformat_minor": 1
}
