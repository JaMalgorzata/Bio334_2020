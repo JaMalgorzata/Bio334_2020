{
 "cells": [
  {
   "cell_type": "markdown",
   "metadata": {},
   "source": [
    "# Bio334 Practical Bioinformatics\n",
    "\n",
    "Exercise\n",
    "13-15, May, 2020\n",
    "\n",
    "## Masaomi Hatakeyama\n",
    "- gihub https://github.com/masaomi/Bio334_2020\n",
    "- TAs: Gwyneth Halstead-Nussloch, Stefan Milosavljevic, Moeko Okada"
   ]
  },
  {
   "cell_type": "markdown",
   "metadata": {},
   "source": [
    "# Today\n",
    "\n",
    "1. Part1(9-10) File I/O, ND\n",
    "2. Part2(10-11) Method, PI\n",
    "3. Part3(11-12) Segregating site\n",
    "4. Part4(13-15) Tajima's D\n",
    "5. Part5(15-17) Batch process, module\n",
    "\n"
   ]
  },
  {
   "cell_type": "code",
   "execution_count": null,
   "metadata": {},
   "outputs": [],
   "source": [
    "import IPython.display\n",
    "IPython.display.Audio(\"voice/day2_part1.mp3\")"
   ]
  },
  {
   "cell_type": "markdown",
   "metadata": {
    "slideshow": {
     "slide_type": "notes"
    }
   },
   "source": [
    "Today, we will focus on more details and applications. \n",
    "\n",
    "The code will become more complicated, but just keep in mind one thing. If you get confused with the code, please break it down into smaller parts, elements, and think the process logically step by step, and integrate the piece of blocks as a whole. Breaking and integration. That's the most important thing in both science and programming, in my opinion.\n",
    "\n"
   ]
  },
  {
   "cell_type": "markdown",
   "metadata": {},
   "source": [
    "# Why programming?\n",
    "\n",
    "1. **Reusability**: Reproducibility, you can calculate with just one command type again\n",
    "2. **Batch process**: Automation, computer can work while you are sleeping\n",
    "3. **Understanding**: It helps you to learn algorithms, logics behind a problem, and it improves your logical thinking ability\n",
    "\n",
    "* (Computer simulation)\n",
    "\n"
   ]
  },
  {
   "cell_type": "code",
   "execution_count": null,
   "metadata": {},
   "outputs": [],
   "source": [
    "IPython.display.Audio(\"voice/why_programming.mp3\")"
   ]
  },
  {
   "cell_type": "markdown",
   "metadata": {
    "slideshow": {
     "slide_type": "notes"
    }
   },
   "source": [
    "First of all, I have a question. \n",
    "\n",
    "Why are you learning the computer programming?\n",
    "\n",
    "In my opinion, there are three good points you should keep in mind in computer programming regardless of programming language.\n",
    "\n",
    "Reusability, batch processing, and understanding.\n",
    "\n",
    "The programmining code is reusable.\n",
    "You can use the source code many times once you make it, you can use the source code again in another time, situation, repeatedly. This will maintain the reproducibility of the calculation result.\n",
    "\n",
    "The programming is batch process.\n",
    "A computer program processes many things at once, in other words, the many complicated processes are automized.\n",
    "\n",
    "Making a programming code improves your understanding.\n",
    "By implementing an algorithm, calculation steps, you understand it more concretely. implementing the code means that you understand the process well. \n",
    "\n",
    "\n",
    "This will be proven after you finish this module, and compare your knowlege before and after the course. Hopefully, you will feel that you get more clear idea about the nucleotide diversity than before.\n"
   ]
  },
  {
   "cell_type": "markdown",
   "metadata": {},
   "source": [
    "# Reusability\n",
    "\n",
    "How can you improve the reusability? (besides copy&paste)\n",
    "\n",
    "* Generalization of **Process**\n",
    "    - $\\Rightarrow$ Separation of **Data** and **Process**\n",
    "\n",
    "What does this mean?\n",
    "\n"
   ]
  },
  {
   "cell_type": "code",
   "execution_count": null,
   "metadata": {},
   "outputs": [],
   "source": [
    "IPython.display.Audio(\"voice/reusability.mp3\")"
   ]
  },
  {
   "cell_type": "markdown",
   "metadata": {
    "slideshow": {
     "slide_type": "notes"
    }
   },
   "source": [
    "How can you improve the reusability?\n",
    "\n",
    "The key concept is the genelization.\n",
    "\n",
    "In order to generalize a process in computer programming, you need to clearly separate the data and process. What does this mean?\n",
    "\n",
    "Let's see the example below."
   ]
  },
  {
   "cell_type": "markdown",
   "metadata": {},
   "source": [
    "# Command line argument\n",
    "\n",
    "Warming up exercise\n",
    "\n",
    "    import sys\n",
    "    print(sys.argv)\n",
    "\n",
    "    # Result\n",
    "    # $ python day2_1_example1.py 123 abc\n",
    "    # ['day2_1_example1.py', '123', 'abc']\n",
    "\n",
    "- sys.argv is a List object\n",
    "- An argument becomes a String object\n",
    "\n"
   ]
  },
  {
   "cell_type": "code",
   "execution_count": null,
   "metadata": {},
   "outputs": [],
   "source": [
    "IPython.display.Audio(\"voice/command_line_argument.mp3\")"
   ]
  },
  {
   "cell_type": "markdown",
   "metadata": {
    "slideshow": {
     "slide_type": "notes"
    }
   },
   "source": [
    "The first example shows the separation of command line argument and script.\n",
    "\n",
    "It is difficlut to show you an example in the jupyter note book, so just please try to execute the example in the terminal.\n",
    "\n",
    "\n",
    "When you exectute a python script you can put additional input data to the python script. It is called command line argument.\n",
    "\n",
    "The external data can be used in the python script. The next example is another separation of data and process.\n"
   ]
  },
  {
   "cell_type": "markdown",
   "metadata": {},
   "source": [
    "# File Input\n",
    "\n",
    "    import sys\n",
    "    file = open(\"input.fa\")\n",
    "    for line in file:\n",
    "        print(line.rstrip())\n",
    "    file.close()\n",
    "\n",
    "* for statement reads line by line assigning line data to the variable\n",
    "* rstrip() removes line break from the line\n",
    "* open() and close() are needed\n",
    "\n"
   ]
  },
  {
   "cell_type": "code",
   "execution_count": null,
   "metadata": {},
   "outputs": [],
   "source": [
    "IPython.display.Audio(\"voice/load_fasta.mp3\")"
   ]
  },
  {
   "cell_type": "markdown",
   "metadata": {
    "slideshow": {
     "slide_type": "notes"
    }
   },
   "source": [
    "This example shows the file loading. Loading a text file and just showing the file contents by print() function.\n",
    "\n",
    "This is also the separation of data and process. The python script is the process, and the fasta file is the input data.\n",
    "\n",
    "By separating data and process, you can use this python code many times for other fasta files without changing the code.\n",
    "\n",
    "In other words, the reusability is improved by separating data and process."
   ]
  },
  {
   "cell_type": "code",
   "execution_count": null,
   "metadata": {},
   "outputs": [],
   "source": [
    "import sys\n",
    "file = open(\"input.fa\") # input.fa is expected to be uploaded in jupyterhub\n",
    "for line in file:\n",
    "    print(line.rstrip())\n",
    "file.close()"
   ]
  },
  {
   "cell_type": "markdown",
   "metadata": {},
   "source": [
    "# Mini-Summary\n",
    "\n",
    "Command line argument + File input\n",
    "\n",
    "* We can separate *Data* from *Process*\n",
    "  * **Data**: input file\n",
    "  * **Process**: script file\n",
    "\n",
    "$\\Rightarrow$ **Reusability up!!** You do not have to update the source code again.\n",
    "\n"
   ]
  },
  {
   "cell_type": "markdown",
   "metadata": {},
   "source": [
    "# Command line argument + File input\n",
    "\n",
    "    import sys\n",
    "    file = open(sys.argv[1])\n",
    "    for line in file:\n",
    "        print(line.rstrip())\n",
    "    file.close()\n",
    "\n",
    "    # command line\n",
    "    # $ python day2_1_example2.py input.fa\n",
    "\n",
    "We used sequences coded in a Python script yesterday\n"
   ]
  },
  {
   "cell_type": "code",
   "execution_count": null,
   "metadata": {},
   "outputs": [],
   "source": [
    "import sys\n",
    "# Assuming that the script runs as follows:\n",
    "# $ python day2_1_example2.py input.fa\n",
    "sys.argv[1] = \"input.fa\" # This is needed only for jupyter notebook\n",
    "\n",
    "file = open(sys.argv[1])\n",
    "for line in file:\n",
    "    print(line.rstrip())\n",
    "file.close()"
   ]
  },
  {
   "cell_type": "markdown",
   "metadata": {},
   "source": [
    "# Day2 Part1 Exercise1\n",
    "\n",
    "* Loading a fasta file and count the genome size of Arabidopsis thaliana\n",
    "\n",
    "        # command example\n",
    "        # $ python day2_1_exercise1.py athal_genome.fa\n",
    "        genome size = 119667750 bp\n",
    "\n",
    "* The script is reusable without any changes\n",
    "* bp: base pair, Kb, Mb, Gb\n",
    "* Human genome size?\n"
   ]
  },
  {
   "cell_type": "code",
   "execution_count": null,
   "metadata": {},
   "outputs": [],
   "source": [
    "IPython.display.Audio(\"voice/day2_part1_exercise.mp3\")"
   ]
  },
  {
   "cell_type": "markdown",
   "metadata": {
    "slideshow": {
     "slide_type": "notes"
    }
   },
   "source": [
    "The first exercise today is just loading a fasta file. The fasta file contains a lot of nucleotide sequences, actually more than two.\n",
    "\n",
    "\n",
    "If you do not know what the FASTA file is. Please look at the explanation below.\n",
    "\n"
   ]
  },
  {
   "cell_type": "markdown",
   "metadata": {},
   "source": [
    "# FASTA format\n",
    "\n",
    "Nucleotides (*Arabidopsis thaliana*)\n",
    "\n",
    "\t>AT1G51370.2 | F-box/RNI-like/FBD-like domains-containing protein\n",
    "\tATGGTGGGTGGCAAGAAGAAAACCAAGATATGTGACAAAGTGTCACATGAGGAAGATAGGATAAGCCAGTTTTTGATATCTGAAATACTTTTTCATCTTTCTACCAAGGACTCTGTCAGAACAAGCGCTTTGTCTACCAAATTTTGGCAATCGGTTCCTGGATTGGACTTAGACCCCTACGCATCCTCAAATACCAATACAATTGTGAGTTTT\n",
    "\n",
    "1. **>** Annotation information \n",
    "2. Sequence\n",
    "\n"
   ]
  },
  {
   "cell_type": "markdown",
   "metadata": {},
   "source": [
    "# FASTQ Format\n",
    "\n",
    "    @SEQ_ID\n",
    "    GATTTGGGGTTCAAAGCAGTATCGATCAAATAGTAAATCCATTTGTTCAACTCACAGTTT\n",
    "    +\n",
    "    !''*((((***+))%%%++)(%%%%).1***-+*''))**55CCF>>>>>>CCCCCCC65\n",
    "\n",
    "1. ID\n",
    "2. Sequence\n",
    "3. Nothing\n",
    "4. Quatliy (ASCII code')\n",
    "\n"
   ]
  },
  {
   "cell_type": "markdown",
   "metadata": {},
   "source": [
    "# Exercise Day2 Part1\n",
    "\n",
    "Command line arguments and File I/O\n",
    "\n",
    "- https://gist.github.com/masaomi/870f24db57d295eabfd0094b504c2f1b\n",
    "\n"
   ]
  }
 ],
 "metadata": {
  "celltoolbar": "Slideshow",
  "kernelspec": {
   "display_name": "Python 3",
   "language": "python",
   "name": "python3"
  },
  "language_info": {
   "codemirror_mode": {
    "name": "ipython",
    "version": 3
   },
   "file_extension": ".py",
   "mimetype": "text/x-python",
   "name": "python",
   "nbconvert_exporter": "python",
   "pygments_lexer": "ipython3",
   "version": "3.8.2"
  }
 },
 "nbformat": 4,
 "nbformat_minor": 1
}
