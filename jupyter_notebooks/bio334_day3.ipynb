{
 "cells": [
  {
   "cell_type": "markdown",
   "metadata": {},
   "source": [
    "# Bio334 Practical Bioinformatics\n",
    "\n",
    "Exercise\n",
    "13-15, May, 2020\n",
    "\n",
    "## Masaomi Hatakeyama\n",
    "- gihub https://github.com/masaomi/Bio334_2020\n",
    "- TAs: Gwyneth Halstead-Nussloch, Stefan Milosavljevic, Moeko Okada"
   ]
  },
  {
   "cell_type": "markdown",
   "metadata": {},
   "source": [
    "# Day3 Final\n",
    "\n",
    "VCF file, Dictionary, and nucleotirde diversity and Tajima's D\n",
    "\n"
   ]
  },
  {
   "cell_type": "code",
   "execution_count": null,
   "metadata": {},
   "outputs": [],
   "source": [
    "import IPython.display\n",
    "IPython.display.Audio(\"voice/day3_final.mp3\")"
   ]
  },
  {
   "cell_type": "markdown",
   "metadata": {
    "slideshow": {
     "slide_type": "notes"
    }
   },
   "source": [
    "Today, the final session, I will give you more advanced exercise, but if you have not finished yet the excercises until yesterday, Please continue them.\n",
    "\n",
    "If everything is all clear until yesterday, then please go on the final exercise today."
   ]
  },
  {
   "cell_type": "markdown",
   "metadata": {},
   "source": [
    "# Advanced exercise1\n",
    "\n",
    "Calculate nucleotide diversity of A. thaliana genomes\n",
    "\n",
    "![kam](https://raw.githubusercontent.com/masaomi/Bio334_2019/master/jupyter_notebooks/png/geomap.png)\n",
    "\n",
    "* Use only chromosome1 of MPICWang2013 accessions\n",
    "    - http://www.1001genomes.org\n",
    "\n"
   ]
  },
  {
   "cell_type": "code",
   "execution_count": null,
   "metadata": {},
   "outputs": [],
   "source": [
    "IPython.display.Audio(\"voice/day3_exercise.mp3\")"
   ]
  },
  {
   "cell_type": "markdown",
   "metadata": {
    "slideshow": {
     "slide_type": "notes"
    }
   },
   "source": [
    "This is also real data that has been already published. It is 1001 genome project on Arabidopsis thaliana. From the site, you can get a lot of SNP data. The SNP data are uploaded as follows:"
   ]
  },
  {
   "cell_type": "markdown",
   "metadata": {},
   "source": [
    "# SNP file format\n",
    "\n",
    "      #samp chr     pos ref sub qual \n",
    "      108   Chr1    83  T   C   40\n",
    "      108   Chr1    92  A   C   40\n",
    "      108   Chr1    262 C   G   40\n",
    "\n",
    "* The length of Chr1: 30427671\n",
    "\n"
   ]
  },
  {
   "cell_type": "code",
   "execution_count": null,
   "metadata": {},
   "outputs": [],
   "source": [
    "IPython.display.Audio(\"voice/vcf_format.mp3\")"
   ]
  },
  {
   "cell_type": "markdown",
   "metadata": {
    "slideshow": {
     "slide_type": "notes"
    }
   },
   "source": [
    "The SNP file, a sort of VCF file format, VCF: Variant Calling Format. \n",
    "\n",
    "It is a tab separated value format. Each coloumn is separated by tab space.\n",
    "\n",
    "The first line shows the column header.\n",
    "\n",
    "The first collumn is the sample name or accession ID, the second coloumn is the chromosome number, the third column is the nucleotide position in the chromosome, the forth column is the reference nucleotide and the fifth column is the alternative nucloetide in that accession.\n",
    "\n",
    "\n",
    "So, this is not the FASTA format as we used until yesterday. Only the SNP information, in other words, position information and alternative ATGC information, is written in the file.\n",
    "\n",
    "The baisc idea is same as before, but the algorithm should change to adjust the file format. How to count the segregating sites, how to compare each accession, how to count the pairwise SNPs based on this file format. It is the final goal of this module to think about the algorithm by yourself."
   ]
  },
  {
   "cell_type": "markdown",
   "metadata": {},
   "source": [
    "# Dictionary\n",
    "\n",
    "* Similar to List\n",
    "* Curly brackets for the entire set of elements\n",
    "* Square brackets for each elements\n",
    "* Index does not have to be sequential integer"
   ]
  },
  {
   "cell_type": "code",
   "execution_count": null,
   "metadata": {},
   "outputs": [],
   "source": [
    "IPython.display.Audio(\"voice/dictionary.mp3\")"
   ]
  },
  {
   "cell_type": "markdown",
   "metadata": {
    "slideshow": {
     "slide_type": "notes"
    }
   },
   "source": [
    "There are several solutions. but I just give you one hint. If you use Dictionary data structure, it could rather simply deal with the VCF file data. \n",
    "\n",
    "The dictionary is simlar to list object.\n",
    "\n",
    "The list has an index and value, but dictionary has key and value. The key can be not only integer but string or any object. \n",
    "\n",
    "\n",
    "Please look at the example below."
   ]
  },
  {
   "cell_type": "code",
   "execution_count": null,
   "metadata": {},
   "outputs": [],
   "source": [
    "# Dictionary\n",
    "# Example\n",
    "\n",
    "dic = {}\n",
    "dic[1] = \"aaa\"\n",
    "dic[\"a\"] = 111\n",
    "print(dic) # => {1: 'aaa', 'a': 111}\n",
    "print(dic.keys()) # => [1, 'a']\n",
    "print(dic.values()) # => ['aaa', 111]\n",
    "print(dic.items()) # => [(1, 'aaa'), ('a', 111)]"
   ]
  },
  {
   "cell_type": "code",
   "execution_count": null,
   "metadata": {},
   "outputs": [],
   "source": [
    "# day3_example1.py\n",
    "\n",
    "import glob\n",
    "\n",
    "samples = []\n",
    "for file_name in glob.glob(\"*.vcf\"):\n",
    "    f = open(file_name)\n",
    "    print(file_name)\n",
    "    snps = {}\n",
    "    for line in f:\n",
    "        print(line, end=\"\")\n",
    "        pos = line.split()[2]\n",
    "        nuc = line.split()[4]\n",
    "        snps[pos] = nuc\n",
    "    f.close()\n",
    "    samples.append(snps)\n",
    "    print()\n",
    "\n",
    "print(\"samples=\", samples)"
   ]
  },
  {
   "cell_type": "markdown",
   "metadata": {},
   "source": [
    "Position | sample1 | sample2 | sample3 | SNP?\n",
    "---------|---------|---------|---------|--------\n",
    "   1     |    A    |    A    |    A    | No\n",
    "   2     |    N    |    N    |    N    | No\n",
    "   3     |    G    |    A    |    G    | Yes\n",
    "   4     |    C    |    T    |    T    | Yes"
   ]
  },
  {
   "cell_type": "code",
   "execution_count": null,
   "metadata": {},
   "outputs": [],
   "source": [
    "IPython.display.Audio(\"voice/snp_detection_by_dictionary.mp3\")"
   ]
  },
  {
   "cell_type": "markdown",
   "metadata": {
    "slideshow": {
     "slide_type": "notes"
    }
   },
   "source": [
    "Now you can use the dictionary data structure to detect a SNP from VCF file.\n",
    "\n",
    "Let's look at the example above. Assuming that this is a part of the same chromosome. There is a position information at the first column, and three samples information. Look at the first and second postions. These are not SNP, because sample1, sample2, and sample3 has the same nucleotide information. N means uncertain nucleotide due to some sequencing error, low quality or something like that.\n",
    "\n",
    "The third and forth position are SNP sites, because one of them is different from the others.\n",
    "\n",
    "How do you implement this SNP detection in Python?\n",
    "\n",
    "\n",
    "Actually, there are several ways to check whether it is SNP or not. I give you one hit, the *set* operation may help you below."
   ]
  },
  {
   "cell_type": "markdown",
   "metadata": {},
   "source": [
    "# Set operation\n",
    "\n",
    "![kam](png/set_operation.png)\n"
   ]
  },
  {
   "cell_type": "code",
   "execution_count": null,
   "metadata": {},
   "outputs": [],
   "source": [
    "IPython.display.Audio(\"voice/snp_detection_by_set.mp3\")"
   ]
  },
  {
   "cell_type": "markdown",
   "metadata": {
    "slideshow": {
     "slide_type": "notes"
    }
   },
   "source": [
    "*Set* is another data structure. It is also similar to *List* object, but two important things. It does not have index, and it does not allow the same elements in it. Please look at the example below.\n",
    "\n",
    "*List* can be converted into a *set* object by *set()* function. And then the duplicated elements become only one in the *set* object. I just give you another hint, a little bit more realistic example in the next cell. But I stop explanation. Please look at the code and think what it does."
   ]
  },
  {
   "cell_type": "code",
   "execution_count": null,
   "metadata": {},
   "outputs": [],
   "source": [
    "list1 = [1,1,2,3,3,4]\n",
    "set1 = set(list1)\n",
    "print(set1)"
   ]
  },
  {
   "cell_type": "code",
   "execution_count": null,
   "metadata": {},
   "outputs": [],
   "source": [
    "# day3_example2.py\n",
    "\n",
    "snps1 = {1: 'A', 3: 'G', 4: 'C'}\n",
    "snps2 = {1: 'A', 4: 'T'}\n",
    "\n",
    "print(\"Sample1: \", snps1)\n",
    "print(\"Sample2: \", snps2)\n",
    "pos1 = set(snps1.keys())\n",
    "pos2 = set(snps2.keys())\n",
    "common_pos = pos1 & pos2\n",
    "exclor_pos = pos1 ^ pos2\n",
    "\n",
    "diff = len(exclor_pos)\n",
    "for pos in common_pos:\n",
    "    if not snps1[pos] == snps2[pos]:\n",
    "        diff += 1\n",
    "\n",
    "print(\"The number of segregating sites = \", diff)"
   ]
  },
  {
   "cell_type": "markdown",
   "metadata": {},
   "source": [
    "# Summary\n",
    "\n",
    "* Nucleotide diversity\n",
    "* Tajima's D\n",
    "  * Biological meaning\n",
    "  * Mathematical expression (hand calculation)\n",
    "  * Python implementation (computer calculation - if, for, List, Set, Function - FASTA file, VCF file, GFF file)\n",
    "\n",
    "reference:http://biopython.org/wiki/Biopython\n",
    "\n"
   ]
  },
  {
   "cell_type": "markdown",
   "metadata": {},
   "source": [
    "# More importantly (in fact)\n",
    "\n",
    "**You have learnt how to solve a problem, in other words, how to construct an algorithm, in Python through**\n",
    "* Nucleotide diversity\n",
    "* Tajima's D\n",
    "  * Biological meaning\n",
    "  * Mathematical expression\n",
    "  * Python implementation"
   ]
  },
  {
   "cell_type": "code",
   "execution_count": null,
   "metadata": {},
   "outputs": [],
   "source": [
    "IPython.display.Audio(\"voice/summary_day3.mp3\")"
   ]
  },
  {
   "cell_type": "markdown",
   "metadata": {
    "slideshow": {
     "slide_type": "notes"
    }
   },
   "source": [
    "Please let me summarize.\n",
    "\n",
    "You have learnt in this module,\n",
    "1. Nucletide diversity\n",
    "2. Tajima's D\n",
    "\n",
    "but more importantly\n",
    "\n",
    "You have learnt how to construct an algorithm through solving \n",
    "\n",
    "1. Nucleotide diversity\n",
    "2. Tajima's D\n",
    "\n",
    "And just take home the following message: three thinking ways.\n",
    "1. Deduction: do not jump the logic, always walk though step by step.\n",
    "2. Induction: If you find simlar things, you can generalize it into one abstracted concept, and you can apply it in another situation.\n",
    "3. Abduction: please experience a lot of try-end-errors in your life, but do not give up thinking, and keep on going, then you could find a solution some day.\n",
    "\n"
   ]
  },
  {
   "cell_type": "markdown",
   "metadata": {},
   "source": [
    "# Final exercise\n",
    "\n",
    "Nucleotide diversity & Tajima's D from VCF file\n",
    "\n",
    "- https://gist.github.com/masaomi/1397a32c4b870f7ab7e92f479770788d"
   ]
  }
 ],
 "metadata": {
  "celltoolbar": "Slideshow",
  "kernelspec": {
   "display_name": "Python 3",
   "language": "python",
   "name": "python3"
  },
  "language_info": {
   "codemirror_mode": {
    "name": "ipython",
    "version": 3
   },
   "file_extension": ".py",
   "mimetype": "text/x-python",
   "name": "python",
   "nbconvert_exporter": "python",
   "pygments_lexer": "ipython3",
   "version": "3.8.2"
  }
 },
 "nbformat": 4,
 "nbformat_minor": 1
}
