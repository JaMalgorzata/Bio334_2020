{
 "cells": [
  {
   "cell_type": "markdown",
   "metadata": {
    "slideshow": {
     "slide_type": "slide"
    }
   },
   "source": [
    "# Bio334 Practical Bioinformatics\n",
    "\n",
    "Exercise\n",
    "13-15, May, 2020\n",
    "\n",
    "## Masaomi Hatakeyama\n",
    "- github https://github.com/masaomi/Bio334_2020\n",
    "- TAs: Gwyneth Halstead-Nussloch, Stefan Milosavljevic, Moeko Okada"
   ]
  },
  {
   "cell_type": "code",
   "execution_count": null,
   "metadata": {},
   "outputs": [],
   "source": [
    "import IPython.display\n",
    "IPython.display.Audio(\"voice/introduction.mp3\")"
   ]
  },
  {
   "cell_type": "markdown",
   "metadata": {
    "slideshow": {
     "slide_type": "notes"
    }
   },
   "source": [
    "Hello, my name is Masaomi Hatakeyama. This is bio334 practical bioinformatics, the second module.\n",
    "\n",
    "I am a lecturer of this module.\n",
    "\n",
    "You can get all the data from the github repository.\n",
    "\n",
    "https://github.com/masaomi/Bio334_2020\n",
    "\n",
    "I guess you have learnt how to use github or git command in a terminal.\n",
    "\n",
    "If you have a question, please put your question in a slack channel. Then, let's get started. Please go on to the next cell."
   ]
  },
  {
   "cell_type": "markdown",
   "metadata": {
    "slideshow": {
     "slide_type": "-"
    }
   },
   "source": [
    "# How to download the data in Renku\n",
    "\n",
    "- Start your Renku instance\n",
    "- Click \"Terminal\" icon\n",
    "- Type the following command\n",
    "\n",
    "```\n",
    "$ git clone https://github.com/masaomi/Bio334_2020\n",
    "```\n",
    "\n",
    "![flow](png/renku_start_screen.png)\n",
    "![gitclone](png/git_clone.png)"
   ]
  },
  {
   "cell_type": "code",
   "execution_count": null,
   "metadata": {},
   "outputs": [],
   "source": [
    "IPython.display.Audio(\"voice/git_clone.mp3\")"
   ]
  },
  {
   "cell_type": "markdown",
   "metadata": {
    "slideshow": {
     "slide_type": "notes"
    }
   },
   "source": [
    "I guess you have already used Renku environment. After you start the Renku environment, you can see the \"Terminal\" icon in the right-side of window. \n",
    "\n",
    "Clicking the Terminal icon, start the Terminal window.\n",
    "\n",
    "Then, type the following command:\n",
    "\n",
    "git clone https://github.com/masaomi/Bio334_2020\n",
    "\n",
    "After you download all the data, you can see the new folder in the left side of the window."
   ]
  },
  {
   "cell_type": "markdown",
   "metadata": {
    "slideshow": {
     "slide_type": "slide"
    }
   },
   "source": [
    "# How to use Jupyter notebook\n",
    "\n",
    "- You can run this *cell* by typing CTRL+ENTER or SHIFT+ENTER.\n",
    "    - There are two types of cell: **markdown**, **python code**\n",
    "- Double click goes into the edit mode\n",
    "- Down arrow key moves onto the next cell\n",
    "- *Restart* when stuck\n",
    "- You can edit and save your notes, and take it back to home\n",
    "- If you install Jupyter in your PC, .ipynb file can work as well\n",
    "- I do not recommend using Jupyter notebook when you run a heavy python calculation\n",
    "\n",
    "Anaconda\n",
    "- https://www.continuum.io/downloads"
   ]
  },
  {
   "cell_type": "code",
   "execution_count": null,
   "metadata": {},
   "outputs": [],
   "source": [
    "IPython.display.Audio(\"voice/jupyter_notebook.mp3\")"
   ]
  },
  {
   "cell_type": "markdown",
   "metadata": {
    "slideshow": {
     "slide_type": "notes"
    }
   },
   "source": [
    "In the downloaded the github folder, you will see a lot of jupyter notebook files.\n",
    "\n",
    "Just let me quickly introduce how to use the Jupyter notebook here.\n",
    "\n",
    "In the Jupyter notebook, there are two types of cell: one is markdown cell, and the other one is python code.\n",
    "\n",
    "Double cliking or hit the Enter key, goes into the edit mode. You can edit any markdown documents and python code as you like. Ctrl+Enter (or Shift+Enter) key executes the python code. \n",
    "\n",
    "You can see a simple python code in the next cell. Selecting the next cell, Ctrl + Enter executes the python code. You will get the result under the cell. \n",
    "\n",
    "In the edit mode, Ctrl+Enter key goes back to the view mode again.\n"
   ]
  },
  {
   "cell_type": "code",
   "execution_count": null,
   "metadata": {
    "slideshow": {
     "slide_type": "-"
    }
   },
   "outputs": [],
   "source": [
    "print(\"hello, world\")"
   ]
  },
  {
   "cell_type": "markdown",
   "metadata": {
    "slideshow": {
     "slide_type": "skip"
    }
   },
   "source": [
    "You can run the cells out of order, but **variables** are saved."
   ]
  },
  {
   "cell_type": "code",
   "execution_count": null,
   "metadata": {
    "slideshow": {
     "slide_type": "-"
    }
   },
   "outputs": [],
   "source": [
    "x = 123"
   ]
  },
  {
   "cell_type": "code",
   "execution_count": null,
   "metadata": {
    "slideshow": {
     "slide_type": "-"
    }
   },
   "outputs": [],
   "source": [
    "print(x)"
   ]
  },
  {
   "cell_type": "markdown",
   "metadata": {
    "slideshow": {
     "slide_type": "slide"
    }
   },
   "source": [
    "# Goal\n",
    "\n",
    "Implementation of\n",
    "\n",
    "1. **Nucleotide Diversity**\n",
    "2. **Segregating sites** (<font color=gray>detecting SNPs</font>)\n",
    "3. **Tajima's D**\n",
    "\n",
    "in Python\n",
    "\n"
   ]
  },
  {
   "cell_type": "markdown",
   "metadata": {},
   "source": [
    "# Purpose\n",
    "\n",
    "Learning\n",
    "\n",
    "* **how to construct an algorithm**\n",
    "\n",
    "through the Implementation of\n",
    "\n",
    "1. Nucleotide Diversity\n",
    "2. Segregating sites (<font color=gray>detecting SNPs</font>)\n",
    "3. Tajima's D\n",
    "\n",
    "as an example in Python"
   ]
  },
  {
   "cell_type": "code",
   "execution_count": null,
   "metadata": {},
   "outputs": [],
   "source": [
    "IPython.display.Audio(\"voice/goal.mp3\")"
   ]
  },
  {
   "cell_type": "markdown",
   "metadata": {
    "slideshow": {
     "slide_type": "notes"
    }
   },
   "source": [
    "The goal of this module is the implementation of the nucleotide diversity and Tajima's D in Python.\n",
    "\n",
    "But more importantly, you should learn how to construct an algorithm through the implementation of the nucleotide diversity and Tajima's D as an example.\n",
    "\n",
    "I guess you have learnt the basic techinques and concepts of Python in the first module. For example, what is the variable, what is the operator, method, if-statement, and so on.\n",
    "\n",
    "The next step in learning a computer proramming should be to learn how to consruct an algorithm. \n",
    "\n",
    "Now you know mathematically how to calculate the nucleotide diversity. But how do you implement it in Python?\n",
    "\n",
    "\n",
    "In this module, you can learn how to construct an algorithm, by building-up small blocks of code, and at the end you will see how to solve the nucleotide diversity and Tajima's D in Python.\n"
   ]
  },
  {
   "cell_type": "markdown",
   "metadata": {},
   "source": [
    "# Plan\n",
    "\n",
    "* https://github.com/masaomi/Bio334_2020#table-of-content\n",
    "\n",
    "\n",
    "\n",
    "1. Day1 (<font color=gray>though Python review</font>)\n",
    "    - Nucleotide diversity\n",
    "\n",
    "\n",
    "2. Day2 (<font color=gray>though population genetics review</font>)\n",
    "    - Tajima's D\n",
    "\n",
    "\n",
    "3. Day3\n",
    "    - Advanced practice (<font color=gray>if we have time</font>)\n"
   ]
  },
  {
   "cell_type": "markdown",
   "metadata": {},
   "source": [
    "# Lecture style\n",
    "\n",
    "\n",
    "**in each topic**\n",
    "1. Example (On-demand, Jupyter notebook, by yourself)\n",
    "2. Exercise (GitHub + Renku, by yourself)\n",
    "3. Advanced exercise (option, you do not have to do)\n",
    "\n",
    "\n",
    "- Q&A (As needed, Slack)\n",
    "- Answer code will be added in Github after 5pm\n",
    "\n",
    "Key concept\n",
    "- *step by step, break a problem into as small pieces as possible*\n"
   ]
  },
  {
   "cell_type": "code",
   "execution_count": null,
   "metadata": {},
   "outputs": [],
   "source": [
    "IPython.display.Audio(\"voice/lecture_style.mp3\")"
   ]
  },
  {
   "cell_type": "markdown",
   "metadata": {
    "slideshow": {
     "slide_type": "notes"
    }
   },
   "source": [
    "In this lecture, I devided the topics into smaller parts, like part1, part2, in order to focus on each topic more simply.\n",
    "\n",
    "In each part, I will give you an example on the jupyter notebook first, and then you can try some exercises in the renku environment by yourself at your own pace. \n",
    "\n",
    "I just assign roughly one hour in each part, but you do not have to rush. Just see how the small code blocks are built up and connected each other, and think why and how it calculates until you understand it.\n",
    "\n",
    "\n",
    "If you have a question, please put it in a slack channel. I will answer to your question as soon as possible. The answer code for the exercises will be added in the github at the end of the day."
   ]
  },
  {
   "cell_type": "markdown",
   "metadata": {},
   "source": [
    "# Copy jupyter notebooks (to your local computer)\n",
    "\n",
    "\n",
    "* Start terminal\n",
    "\n",
    " $ git clone https://github.com/masaomi/Bio334_2020\n",
    " \n",
    " \n",
    "* Update jupyter notebooks\n",
    "\n",
    " $ git pull\n",
    "\n"
   ]
  },
  {
   "cell_type": "markdown",
   "metadata": {},
   "source": [
    "# Important skills (*in programming*)\n",
    "\n",
    "<font color=gray>behind (beyond?) the knowledge of language</font>\n",
    "\n",
    "1. Deduction  (syllogism, a -> b and b -> c then a->c)\n",
    "2. Induction  (generalization, <-> specialization)\n",
    "3. Abduction  (hypothetical inference, this comes after deduction and induction, aha! moment)\n",
    "\n"
   ]
  },
  {
   "cell_type": "code",
   "execution_count": null,
   "metadata": {},
   "outputs": [],
   "source": [
    "IPython.display.Audio(\"voice/tips.mp3\")"
   ]
  },
  {
   "cell_type": "markdown",
   "metadata": {
    "slideshow": {
     "slide_type": "notes"
    }
   },
   "source": [
    "I just give you some small tips in learning algorithm. It is a sort of knowledge of knowledge. I would say, it is meta-knowledge.\n",
    "\n",
    "They say, there are three types of thinking way. Deduction, induction, and Abduction.\n",
    "\n",
    "Deduction is like so-called a logical thinking. If A=B and B=C, then you can conclude A=C, something like that.\n",
    "\n",
    "In the computer process the commands are executed one by one in order. You need to construct the calculation step by step without jumping the logic. So, the deductive thinking way is very important in programming.\n",
    "\n",
    "\n",
    "Induction is a sort of generalization process. If you find some simlilar concepts or processes, you would be able to generalize them into one common idea or one abstract concept. There are a lot of similar processes in programming. The generalization process is very important, for example, how to group a block of code and how to define a method, and so on.\n",
    "\n",
    "Abduction is a sort of hypotheical thinking, but not just a intuition or inspiration. It is not always true but based on your experience or observation, you could get a reasonable or possible solution under some unsertainty.\n",
    "\n",
    "Computer programming is someting like a puzzle. You have a lot of pieces but you do not know how to link them each other. Then you may do a lot of try-and-errors.\n",
    "\n",
    "Usually there is not only one solution, but there must be several ways to solve a problem. Sometimes you may get a new solution by abduction. \n",
    "\n",
    "After thinking over and over again, trying a lot of combinations and possibilities, searching knowledge in your brain, sometimes you might meet the moment. Aha or something like Bingo. It is neither deduction nor induction, but it may be abduction.\n",
    "\n",
    "The important thing in abduction is: not to give up thinking and to believe that the solution must exist, then you might be able to find a solution.\n",
    "\n",
    "I will come back to this topic again from time to time during the lecture."
   ]
  },
  {
   "cell_type": "markdown",
   "metadata": {},
   "source": [
    "# Today's Plan\n",
    "\n",
    "1. Part1 Quick Python review\n",
    "2. Part2 Comparison two sequences\n",
    "3. Part3 Nucleotide diversity\n"
   ]
  },
  {
   "cell_type": "code",
   "execution_count": null,
   "metadata": {},
   "outputs": [],
   "source": [
    "IPython.display.Audio(\"voice/day1_plan.mp3\")"
   ]
  },
  {
   "cell_type": "markdown",
   "metadata": {
    "slideshow": {
     "slide_type": "notes"
    }
   },
   "source": [
    "Today, there are three parts.\n",
    "\n",
    "Part1: I will just quikly review the important grammars of Python\n",
    "\n",
    "If you think it is easy, you can skip this part.\n",
    "\n",
    "In Part2: I just give you an example of how to compare the two nucleotide sequences\n",
    "\n",
    "For some of you, this also may be easy part.\n",
    "\n",
    "Then finally, in part3: You can try the implementation of the nucleotide diversity using very simple dataset.\n",
    "\n",
    "I just assign about one hour to each part, but you can do by yourself at your own pace.\n"
   ]
  },
  {
   "cell_type": "markdown",
   "metadata": {},
   "source": [
    "# Part1 (*Quick Python Review*)\n",
    "\n",
    "1. Basic components\n",
    "2. Data structure\n",
    "3. Flow control statements\n",
    "\n",
    "Note\n",
    "- Please refer to Prof. CvM's group PDFs in detail\n",
    "- Required parts only for nucleotide diversity and Tajima's D implementation\n",
    "- No instruction: 1. how to use texteditor, 2. how to use terminal (Unix commands)\n"
   ]
  },
  {
   "cell_type": "code",
   "execution_count": null,
   "metadata": {},
   "outputs": [],
   "source": [
    "IPython.display.Audio(\"voice/python_review.mp3\")"
   ]
  },
  {
   "cell_type": "markdown",
   "metadata": {
    "slideshow": {
     "slide_type": "notes"
    }
   },
   "source": [
    "Then let's start the quick python review.\n",
    "\n",
    "I just pick up 3 important topics. Basic components, Data structure, and Flow control statements.\n",
    "\n",
    "For more detail, just go back to the first module lecture or search by google."
   ]
  },
  {
   "cell_type": "markdown",
   "metadata": {},
   "source": [
    "# Useful links\n",
    "\n",
    "* Python https://www.python.org/\n",
    "* Tutorial https://docs.python.org/3/tutorial/\n",
    "* Glossary https://docs.python.org/3/glossary.html#glossary\n",
    "* The 5 Best Websites To Learn Python Programming http://www.makeuseof.com/tag/5-websites-learn-python-programming/\n"
   ]
  },
  {
   "cell_type": "markdown",
   "metadata": {},
   "source": [
    "# Basic Components\n",
    "\n",
    "* Variable type (numeric string boolean, operand)\n",
    "* Assignment operator (=)\n",
    "* Numeric operators (+ - * /')\n",
    "* Comparison operators (== > <)\n",
    "\n"
   ]
  },
  {
   "cell_type": "markdown",
   "metadata": {},
   "source": [
    "# Variable type (numeric string)\n",
    "\n",
    "* Numeric: 1 2 3 1.5 3.9\n",
    "* String: 'hello' \"bye\" \n",
    "\n",
    "Note   \n",
    "- = assignment operator, direction right to left (variable)\n",
    "- print() needs round brackets in Python3\n",
    "\n"
   ]
  },
  {
   "cell_type": "code",
   "execution_count": null,
   "metadata": {},
   "outputs": [],
   "source": [
    "IPython.display.Audio(\"voice/variable_type.mp3\")"
   ]
  },
  {
   "cell_type": "markdown",
   "metadata": {
    "slideshow": {
     "slide_type": "notes"
    }
   },
   "source": [
    "There are two types of variable. Numeric and String.\n",
    "Numeric value is like 1,2,3,... Integer value, and like 1.5, 3.9, real number.\n",
    "\n",
    "String value is a set of letters. String value needs the single quotation or double quotation.\n",
    "\n",
    "In computer programming, the variable is like a memory space to keep the calculation result or value. To assign a value, you use assignment operator, =. The assignment is always from right to left. You have to put the variable in the left side of the =. \n",
    "\n",
    "Let's see the example below."
   ]
  },
  {
   "cell_type": "code",
   "execution_count": null,
   "metadata": {},
   "outputs": [],
   "source": [
    "x = 123\n",
    "print(x)\n",
    "print(\"hello\")\n"
   ]
  },
  {
   "cell_type": "markdown",
   "metadata": {},
   "source": [
    "# Numeric operators\n",
    "\n",
    "- +\n",
    "- -\n",
    "- *\n",
    "- /\n"
   ]
  },
  {
   "cell_type": "code",
   "execution_count": null,
   "metadata": {},
   "outputs": [],
   "source": [
    "IPython.display.Audio(\"voice/numeric_operators.mp3\")"
   ]
  },
  {
   "cell_type": "markdown",
   "metadata": {
    "slideshow": {
     "slide_type": "notes"
    }
   },
   "source": [
    "The function of operator depends on the data type. For numeric value, addition, subtraction, multiplification, and division are available. The result becomes Integer or real number.\n",
    "\n",
    "If you use \"+\" operator to Sring value, it becomes the concatenation of two strings. See the example below.\n",
    "\n",
    "Please note one thing: The number of digit is limited in a computer. So, the result of 10 divided by 3 is rounded at the final digit and it includes a small error. See the example below."
   ]
  },
  {
   "cell_type": "code",
   "execution_count": null,
   "metadata": {},
   "outputs": [],
   "source": [
    "print(1+2)\n",
    "print(10/3)\n",
    "print(\"a\" + \"b\")"
   ]
  },
  {
   "cell_type": "code",
   "execution_count": null,
   "metadata": {},
   "outputs": [],
   "source": [
    "x = 2\n",
    "y = 2\n",
    "a = x + y\n",
    "b = x - y\n",
    "c = x * y\n",
    "d = x / y\n",
    "\n",
    "print(a,b,c,d)"
   ]
  },
  {
   "cell_type": "markdown",
   "metadata": {},
   "source": [
    "Use round brackets if you are not sure which operator first"
   ]
  },
  {
   "cell_type": "code",
   "execution_count": null,
   "metadata": {},
   "outputs": [],
   "source": [
    "x = 2; y = 2;\n",
    "z = (x + y)\n",
    "z = (x - y)\n",
    "z = (x * y)\n",
    "z = (x / y)\n",
    "\n",
    "print(a,b,c,d)"
   ]
  },
  {
   "cell_type": "markdown",
   "metadata": {},
   "source": [
    "# Comparison operators\n",
    "\n",
    "    p == q # equal\n",
    "    p != q # not equal\n",
    "    p < q  # less than \n",
    "    p > q  # greater than\n",
    "    p <= q # less than equal\n",
    "    p >= q # greater than equal\n",
    "\n",
    "\n",
    "Q: What happens if it is used for string data?"
   ]
  },
  {
   "cell_type": "code",
   "execution_count": null,
   "metadata": {},
   "outputs": [],
   "source": [
    "IPython.display.Audio(\"voice/comparison_operators.mp3\")"
   ]
  },
  {
   "cell_type": "markdown",
   "metadata": {
    "slideshow": {
     "slide_type": "notes"
    }
   },
   "source": [
    "Additionally, there are comparison operators. These operators compare two values. Always only two values. If you want to compare three values, you have to use the comparison operator twice.\n",
    "\n",
    "Another point in comparison, the result becomes true or false, which is called boolean value. \n",
    "\n",
    "Let's see examples below."
   ]
  },
  {
   "cell_type": "code",
   "execution_count": null,
   "metadata": {},
   "outputs": [],
   "source": [
    "p = 1\n",
    "q = 2\n",
    "print(p == q)\n",
    "print(p != q)\n",
    "print(p < q)\n",
    "print(p > q)\n",
    "print(p <= q)\n",
    "print(p >= q)"
   ]
  },
  {
   "cell_type": "markdown",
   "metadata": {},
   "source": [
    "# Multiline comments\n",
    "\n",
    "Use triple quation\n",
    "\n",
    "    '''\n",
    "    all comments from here\n",
    "    p == q # equal\n",
    "    p != q # not equal\n",
    "    p < q  # less than \n",
    "    until here \n",
    "    '''\n"
   ]
  },
  {
   "cell_type": "markdown",
   "metadata": {},
   "source": [
    "# Multiline text (Here-document)\n",
    "\n",
    "    print('''\n",
    "    all comments from here\n",
    "    p == q # equal\n",
    "    p != q # not equal\n",
    "    p < q  # less than \n",
    "    until here \n",
    "    ''')\n",
    "\n",
    "- every line is printed out\n"
   ]
  },
  {
   "cell_type": "code",
   "execution_count": null,
   "metadata": {},
   "outputs": [],
   "source": [
    "print('''\n",
    "all comments from here\n",
    "p == q # equal\n",
    "p != q # not equal\n",
    "p < q  # less than \n",
    "until here \n",
    "''')"
   ]
  },
  {
   "cell_type": "markdown",
   "metadata": {},
   "source": [
    "# Boolean expression\n",
    "\n",
    "* True/False\n",
    "\n",
    "- return value of comparison operation"
   ]
  },
  {
   "cell_type": "markdown",
   "metadata": {},
   "source": [
    "# Boolean operators\n",
    "\n",
    "* *and*: if both value are true, then true\n",
    "* *or*: if either value is true, then true\n",
    "* *not*: opposite of the boolean value\n",
    "\n",
    "\n",
    "These are the **operators**, reserved by the system."
   ]
  },
  {
   "cell_type": "code",
   "execution_count": null,
   "metadata": {},
   "outputs": [],
   "source": [
    "IPython.display.Audio(\"voice/boolean_operators.mp3\")"
   ]
  },
  {
   "cell_type": "markdown",
   "metadata": {
    "slideshow": {
     "slide_type": "notes"
    }
   },
   "source": [
    "There are operators only for boolean value, true and false.\n",
    "\n",
    "There are three operators, *and*, *or*, *not*.\n",
    "\n",
    "*and* operator returns true if two values are true.\n",
    "*or* operator returns ture if either value is true, in other words, if both values are false, it returns false.\n",
    "*not* operator returns the opposite boolean value. *not* true becomes false, *not* false becomes true."
   ]
  },
  {
   "cell_type": "code",
   "execution_count": null,
   "metadata": {},
   "outputs": [],
   "source": [
    "print(True and True)\n",
    "print(True and False)\n",
    "print(True or False)\n",
    "print(False or False)"
   ]
  },
  {
   "cell_type": "code",
   "execution_count": null,
   "metadata": {},
   "outputs": [],
   "source": [
    "# comparison of three values\n",
    "\n",
    "a = 2\n",
    "b = 5\n",
    "c = 1\n",
    "if a < b:\n",
    "    if b < c:\n",
    "      print(\"c is highest\")\n",
    "    else:\n",
    "      print(\"b is highest\")\n",
    "else:\n",
    "    if a < c:\n",
    "      print(\"c is highest\")\n",
    "    else:\n",
    "      print(\"a is highest\")\n"
   ]
  },
  {
   "cell_type": "code",
   "execution_count": null,
   "metadata": {},
   "outputs": [],
   "source": [
    "a = 2\n",
    "b = 5\n",
    "c = 1\n",
    "if a < b and b < c:\n",
    "    print(\"c is highest\")\n",
    "elif a < b and b > c:\n",
    "    print(\"b is highest\")\n",
    "elif a > b and a > c:\n",
    "    print(\"a is highest\")\n"
   ]
  },
  {
   "cell_type": "markdown",
   "metadata": {},
   "source": [
    "# Data structure\n",
    "\n",
    "* List: a set of indexed values, mutable\n",
    "* Tuple: a set of indexed values, immutable\n",
    "* Set: a set of uniq values, in random order\n",
    "* Dictionary: a set of key-value data, in random order\n",
    "\n"
   ]
  },
  {
   "cell_type": "code",
   "execution_count": null,
   "metadata": {},
   "outputs": [],
   "source": [
    "IPython.display.Audio(\"voice/data_structures.mp3\")"
   ]
  },
  {
   "cell_type": "markdown",
   "metadata": {
    "slideshow": {
     "slide_type": "notes"
    }
   },
   "source": [
    "In python, there are four popular data structures, List, Tuple, Set, and Dictionary.\n",
    "\n",
    "*List* is also called array in other programming languages. It has several elements with index, and the index begins with zero.\n",
    "\n",
    "The first element of the list has the index zero. the index of the second element is 1, and the third element, 2,,, and so on.\n",
    "\n",
    "*Tuple* is mostly same to list, but it is not changiable. Once you set the elements, the element cannot change during the code running.\n",
    "\n",
    "*Set* is also similar to list, but it does not have index, and it does not allow duplicated values. Each element must be different from other elemenents.\n",
    "\n",
    "*Dictionary* is also similar to list, but the index does not have to be integer. Instead it is called key. Namely, it is a dataset of key and value.\n",
    "\n",
    "\n",
    "Let's see the example below.\n",
    "\n"
   ]
  },
  {
   "cell_type": "markdown",
   "metadata": {},
   "source": [
    "# List\n",
    "\n",
    "* Indexed sequential data set\n",
    "* Indexed from *0* (not 1)\n",
    "* String object is processed like a list object"
   ]
  },
  {
   "cell_type": "code",
   "execution_count": null,
   "metadata": {},
   "outputs": [],
   "source": [
    "lst = [2, 4, 6, 8]\n",
    "print(lst[0])\n",
    "print(len(lst))\n",
    "\n",
    "str = \"hello\"\n",
    "print(str[0])\n",
    "print(len(str))"
   ]
  },
  {
   "cell_type": "markdown",
   "metadata": {
    "slideshow": {
     "slide_type": "notes"
    }
   },
   "source": [
    "As you can see the example above, the String value is like a list. Actually, it is not a list object but you can access each character of the string by index."
   ]
  },
  {
   "cell_type": "markdown",
   "metadata": {},
   "source": [
    "# Tuple\n",
    "* Simlar to List\n",
    "* Immutable (you can set the values only once)"
   ]
  },
  {
   "cell_type": "code",
   "execution_count": null,
   "metadata": {},
   "outputs": [],
   "source": [
    "tpl = (2, 4, 6, 8)\n",
    "print(tpl[0])\n",
    "print(len(tpl))\n",
    "\n",
    "tpl[0] = 100 #=> error\n"
   ]
  },
  {
   "cell_type": "markdown",
   "metadata": {},
   "source": [
    "# Set\n",
    "\n",
    "* Unique data set in random order\n",
    "* Duplicated values are removed\n",
    "* Useful to remove duplicated values from list\n",
    "* set() is a built-in funciton to convert list into set object\n",
    "\n",
    "\n"
   ]
  },
  {
   "cell_type": "markdown",
   "metadata": {
    "slideshow": {
     "slide_type": "notes"
    }
   },
   "source": [
    "Set is similar to List but it does not have index and it does not allow duplicated elements. The elements in the Set object must different each other.\n",
    "\n",
    "It does not have index, which means in other words, the elements does not have order. If you need the order of element, you may use sorted() method and convert it into list object.\n",
    "\n",
    "Let's see the example below."
   ]
  },
  {
   "cell_type": "code",
   "execution_count": null,
   "metadata": {},
   "outputs": [],
   "source": [
    "s = set([2, 2, 3, 3])\n",
    "print(s)\n",
    "string = \"hello\"\n",
    "print(set(string))\n",
    "print(sorted(set(string)))"
   ]
  },
  {
   "cell_type": "markdown",
   "metadata": {},
   "source": [
    "# Dictionary\n",
    "\n",
    "* Key-value data set in random order\n",
    "* The key should be unique\n",
    "* The key can be numeric or string\n"
   ]
  },
  {
   "cell_type": "code",
   "execution_count": null,
   "metadata": {},
   "outputs": [],
   "source": [
    "d = {\"apple\":100, \"orange\":500, \"banana\": 300}\n",
    "print(d)\n",
    "print(d[\"apple\"])\n",
    "d[\"apple\"] = 700\n",
    "print(d)\n",
    "print(sorted(d.items()))"
   ]
  },
  {
   "cell_type": "markdown",
   "metadata": {},
   "source": [
    "# Flow Control\n",
    "\n",
    "![flow](png/3flows.png)\n",
    "\n",
    "3 fundamental flows\n",
    "\n",
    "1. Sequential processing\n",
    "2. Conditional branching\n",
    "3. Repetitive processing\n",
    "\n"
   ]
  },
  {
   "cell_type": "code",
   "execution_count": null,
   "metadata": {},
   "outputs": [],
   "source": [
    "IPython.display.Audio(\"voice/flow_control.mp3\")"
   ]
  },
  {
   "cell_type": "markdown",
   "metadata": {
    "slideshow": {
     "slide_type": "notes"
    }
   },
   "source": [
    "Next, I will explain the flow of process. You need to remember only 3 types of process flow.\n",
    "\n",
    "Sequencial processing, conditional branching, and repetitive processing.\n",
    "\n",
    "If you put the commands, the commands will be executed in order one by one sequentially. This is the default process flow.\n",
    "\n",
    "Sometimes you might want to process the commands in two ways depending on a condition. Then you could use the branching processing.\n",
    "\n",
    "Sometimes, in other situlation, you might want to repeat the similar process. Then you could use the repetitive processing. \n",
    "\n",
    "There are several ways to implement them. I will show you simple examples in the following.\n"
   ]
  },
  {
   "cell_type": "markdown",
   "metadata": {},
   "source": [
    "# Flow control statements \n",
    "\n",
    "* *if* : conditional branching\n",
    "* *while, for* : repetitive processing\n",
    "\n"
   ]
  },
  {
   "cell_type": "markdown",
   "metadata": {},
   "source": [
    "# If \n",
    "\n",
    "conditional branching\n",
    "\n",
    "    if <condition>:\n",
    "        # process1\n",
    "    else: \n",
    "        # process2\n",
    "\n",
    "* if <condition> is *True*, process1 runs, otherwise process2 runs\n",
    "\n",
    "Q: How to manage multi conditions?"
   ]
  },
  {
   "cell_type": "code",
   "execution_count": null,
   "metadata": {},
   "outputs": [],
   "source": [
    "IPython.display.Audio(\"voice/if_statement.mp3\")"
   ]
  },
  {
   "cell_type": "markdown",
   "metadata": {
    "slideshow": {
     "slide_type": "notes"
    }
   },
   "source": [
    "if-statement swithes the flow in two or more depending on a condition.\n",
    "\n",
    "The condition should be the comparison operation or boolean operation, in other words, the condition must be true or false.\n",
    "\n",
    "If the condition becomes true, the first process runs, otherwise, the second process after the else runs. In other words, the condtion becomes false, the second process runs.\n",
    "\n",
    "Let's see the example below."
   ]
  },
  {
   "cell_type": "code",
   "execution_count": null,
   "metadata": {},
   "outputs": [],
   "source": [
    "x = 12\n",
    "if x > 100:\n",
    "    print(\"process1\")\n",
    "elif x > 50: \n",
    "    print(\"process2\")\n",
    "else: \n",
    "    print(\"process3\")"
   ]
  },
  {
   "cell_type": "markdown",
   "metadata": {},
   "source": [
    "# While \n",
    "\n",
    "Repetitive processing\n",
    "\n",
    "    while <condition>:\n",
    "        # process\n",
    "\n",
    "* While <condition> is *True*, the process runs\n",
    "* Until <condition> becomes *False*, the process runs\n",
    "\n",
    "\n"
   ]
  },
  {
   "cell_type": "code",
   "execution_count": null,
   "metadata": {},
   "outputs": [],
   "source": [
    "IPython.display.Audio(\"voice/while_statement.mp3\")"
   ]
  },
  {
   "cell_type": "markdown",
   "metadata": {
    "slideshow": {
     "slide_type": "notes"
    }
   },
   "source": [
    "While-statemet is one of the statements to repeat a process. The format is simlar to if-statement.\n",
    "\n",
    "If the condtion becomes true, the process is repeated. In other words, the process is repeated until the condition becomes false. So, the condtion must become false after a while in the repeated process somehow. Otherwise, the repeating will never end.\n",
    "\n",
    "Let's see the example below.\n",
    "\n"
   ]
  },
  {
   "cell_type": "code",
   "execution_count": null,
   "metadata": {},
   "outputs": [],
   "source": [
    "x = 0\n",
    "while x <= 10:\n",
    "    print(x)\n",
    "    x += 1\n",
    "\n",
    "# Q: How many times print() runs?"
   ]
  },
  {
   "cell_type": "code",
   "execution_count": null,
   "metadata": {},
   "outputs": [],
   "source": [
    "# Quiz\n",
    "x = 0\n",
    "a = 0.0\n",
    "while x < 10:\n",
    "    print(x)\n",
    "    x += 1\n",
    "    a += 0.1\n",
    "print(a == 1.0) #=> True or False?"
   ]
  },
  {
   "cell_type": "markdown",
   "metadata": {},
   "source": [
    "# For \n",
    "\n",
    "Repetitive processing\n",
    "\n",
    "    for <variable> in <list>:\n",
    "        # process\n",
    "\n",
    "* Each element of <list> is assigned to <variable> in order and repeat process\n",
    "\n"
   ]
  },
  {
   "cell_type": "code",
   "execution_count": null,
   "metadata": {},
   "outputs": [],
   "source": [
    "IPython.display.Audio(\"voice/for_statement.mp3\")"
   ]
  },
  {
   "cell_type": "markdown",
   "metadata": {
    "slideshow": {
     "slide_type": "notes"
    }
   },
   "source": [
    "For-statement is another repeating statement, but a little bit more complidated and it is nice to use it with a list object.\n",
    "\n",
    "Each element of the list is assigned to the variable and repeating the process. You can use the element information in the process but you do not have to.\n",
    "\n",
    "The nice point of for-loop is that it is guranteed the repeating will finish, and we can know how many times the process will be repeated in advance.\n",
    "\n",
    "\n",
    "Let's see the example below.\n"
   ]
  },
  {
   "cell_type": "code",
   "execution_count": null,
   "metadata": {},
   "outputs": [],
   "source": [
    "list1 = [1, 3, 5, 7]\n",
    "for i in list1:\n",
    "    print(i)"
   ]
  },
  {
   "cell_type": "code",
   "execution_count": null,
   "metadata": {},
   "outputs": [],
   "source": [
    "# While instead For\n",
    "\n",
    "list1 = [1, 3, 5, 7]\n",
    "i = 0\n",
    "while i < len(list1):\n",
    "    print(list1[i])\n",
    "    i += 1"
   ]
  },
  {
   "cell_type": "code",
   "execution_count": null,
   "metadata": {},
   "outputs": [],
   "source": [
    "IPython.display.Audio(\"voice/while_and_for.mp3\")"
   ]
  },
  {
   "cell_type": "markdown",
   "metadata": {
    "slideshow": {
     "slide_type": "notes"
    }
   },
   "source": [
    "As you can see the example above, the same process can be implemented by either while or for, but if you repeat the process with a list object, the for-loop is nice and easy to handle it.\n",
    "\n",
    "Without a certain list object, you can generate a simple sequential list object by range() function.\n",
    "\n",
    "Let's see other examples below."
   ]
  },
  {
   "cell_type": "markdown",
   "metadata": {},
   "source": [
    "# For tips\n",
    "\n",
    "A certain number of times of iteration\n",
    "\n",
    "    for i in range(0, n):\n",
    "        print(i)\n",
    "\n",
    "* The variable *i* is printed 4 times with increment\n",
    "\n"
   ]
  },
  {
   "cell_type": "code",
   "execution_count": null,
   "metadata": {},
   "outputs": [],
   "source": [
    "for i in range(0, 4):\n",
    "    print(i)"
   ]
  },
  {
   "cell_type": "code",
   "execution_count": null,
   "metadata": {},
   "outputs": [],
   "source": [
    "list1 = [1, 3, 5, 7]\n",
    "for i in range(0, 4):\n",
    "    print(list1[i])"
   ]
  },
  {
   "cell_type": "code",
   "execution_count": null,
   "metadata": {},
   "outputs": [],
   "source": [
    "list1 = [1, 3, 5, 7]\n",
    "for i in range(0, len(list1)):\n",
    "    print(list1[i])"
   ]
  },
  {
   "cell_type": "code",
   "execution_count": null,
   "metadata": {},
   "outputs": [],
   "source": [
    "# Example1: Calculate the sum of a list\n",
    "\n",
    "list1 = [1, 2, 3, 4, 5, 6]\n",
    "total = 0             \n",
    "for i in list1:      \n",
    "    total += i      \n",
    "print(\"total =\", total)\n"
   ]
  },
  {
   "cell_type": "code",
   "execution_count": null,
   "metadata": {},
   "outputs": [],
   "source": [
    "# Example1\n",
    "# Break it down when you are confused about repeat process (specialization)\n",
    "\n",
    "list1 = [1, 2, 3, 4, 5, 6]\n",
    "total = 0             \n",
    "\n",
    "total += list1[0]\n",
    "total += list1[1]\n",
    "total += list1[2]\n",
    "total += list1[3]\n",
    "total += list1[4]\n",
    "total += list1[5]\n",
    "\n",
    "print(total)"
   ]
  },
  {
   "cell_type": "code",
   "execution_count": null,
   "metadata": {},
   "outputs": [],
   "source": [
    "# Example1\n",
    "# Break it down when you are confused about repeat process (specialization)\n",
    "\n",
    "list1 = [1, 2, 3, 4, 5, 6]\n",
    "total = 0             \n",
    "\n",
    "total = total + list1[0]\n",
    "total = total + list1[1]\n",
    "total = total + list1[2]\n",
    "total = total + list1[3]\n",
    "total = total + list1[4]\n",
    "total = total + list1[5]\n",
    "\n",
    "print(total)"
   ]
  },
  {
   "cell_type": "code",
   "execution_count": null,
   "metadata": {},
   "outputs": [],
   "source": [
    "# Example1\n",
    "# Another way (inspiration!!)\n",
    "\n",
    "list1 = [1, 2, 3, 4, 5, 6]\n",
    "print(\"total =\", sum(list1))\n",
    "\n",
    "# sum() is a built-in function to calculate the sum of a list\n"
   ]
  },
  {
   "cell_type": "code",
   "execution_count": null,
   "metadata": {},
   "outputs": [],
   "source": [
    "# Example1\n",
    "# Yet another way (inspiration!!)\n",
    "\n",
    "print(\"total =\", sum(range(1, 7)))\n",
    "\n",
    "# range() is also a built-in function to generate sequential list"
   ]
  },
  {
   "cell_type": "markdown",
   "metadata": {},
   "source": [
    "# Mini-Summary\n",
    "\n",
    "Generalization\n",
    "\n",
    "* In order to process *list*, use *for*\n",
    "\n",
    "\n",
    "    for <varriable> in <list>:\n",
    "        # process for each element\n",
    "\n",
    "\n"
   ]
  },
  {
   "cell_type": "markdown",
   "metadata": {},
   "source": [
    "# Summary\n",
    "\n",
    "* Data type: Numeric, String, Boolean\n",
    "* Data Strucutre: *List*, *Set*\n",
    "* Flow Control: *if*, *while*, *for*\n",
    "\n",
    "\n",
    "- **You should design an algorithm to solve a problem with these items**\n",
    "- Nucleotide Diversity and Tajima's D can be implemented using these items\n",
    "\n",
    "\n"
   ]
  },
  {
   "cell_type": "code",
   "execution_count": null,
   "metadata": {},
   "outputs": [],
   "source": [
    "IPython.display.Audio(\"voice/summary_day1_part1.mp3\")"
   ]
  },
  {
   "cell_type": "markdown",
   "metadata": {
    "slideshow": {
     "slide_type": "notes"
    }
   },
   "source": [
    "Now you have reviewed the important python components, data structures, and the flow statements. \n",
    "\n",
    "Let's do the exercise of part1, but if you think, it is too easy, you can skip this exercise and please go on to the part2.\n"
   ]
  },
  {
   "cell_type": "markdown",
   "metadata": {},
   "source": [
    "# Exercise Day1 Part1\n",
    "\n",
    "Basic python review\n",
    "\n",
    "- https://gist.github.com/masaomi/75ac75aa49d3603697e24864b2345d4d\n",
    "\n"
   ]
  }
 ],
 "metadata": {
  "celltoolbar": "Slideshow",
  "kernelspec": {
   "display_name": "Python 3",
   "language": "python",
   "name": "python3"
  },
  "language_info": {
   "codemirror_mode": {
    "name": "ipython",
    "version": 3
   },
   "file_extension": ".py",
   "mimetype": "text/x-python",
   "name": "python",
   "nbconvert_exporter": "python",
   "pygments_lexer": "ipython3",
   "version": "3.8.2"
  }
 },
 "nbformat": 4,
 "nbformat_minor": 1
}
