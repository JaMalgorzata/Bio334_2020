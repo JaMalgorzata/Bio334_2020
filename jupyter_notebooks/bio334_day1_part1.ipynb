{
 "cells": [
  {
   "cell_type": "markdown",
   "metadata": {
    "slideshow": {
     "slide_type": "slide"
    }
   },
   "source": [
    "# Bio334 Practical Bioinformatics\n",
    "\n",
    "Exercise\n",
    "13-15, May, 2020\n",
    "\n",
    "## Masaomi Hatakeyama\n",
    "- github https://github.com/masaomi/Bio334_2020"
   ]
  },
  {
   "cell_type": "code",
   "execution_count": null,
   "metadata": {},
   "outputs": [],
   "source": [
    "import IPython.display\n",
    "IPython.display.Audio(\"voice/introduction.mp3\")"
   ]
  },
  {
   "cell_type": "markdown",
   "metadata": {
    "slideshow": {
     "slide_type": "-"
    }
   },
   "source": [
    "# How to download the data in Renku\n",
    "\n",
    "- Start your Renku instance\n",
    "- Click \"Terminal\" icon\n",
    "- Type the following command\n",
    "\n",
    "```\n",
    "$ git clone https://github.com/masaomi/Bio334_2020\n",
    "```\n",
    "\n",
    "![flow](png/renku_start_screen.png)\n",
    "![gitclone](png/git_clone.png)"
   ]
  },
  {
   "cell_type": "code",
   "execution_count": null,
   "metadata": {},
   "outputs": [],
   "source": [
    "IPython.display.Audio(\"voice/git_clone.mp3\")"
   ]
  },
  {
   "cell_type": "markdown",
   "metadata": {
    "slideshow": {
     "slide_type": "slide"
    }
   },
   "source": [
    "# How to use Jupyter notebook\n",
    "\n",
    "- You can run this *cell* by typing CTRL+ENTER or SHIFT+ENTER.\n",
    "    - There are two types of cell: **markdown**, **python code**\n",
    "- Double click goes into the edit mode\n",
    "- Down arrow key moves onto the next cell\n",
    "- *Restart* when stuck\n",
    "- You can edit and save your notes, and take it back to home\n",
    "- If you install Jupyter in your PC, .ipynb file can work as well\n",
    "- I do not recommend using Jupyter notebook when you run a heavy python calculation\n",
    "\n",
    "Anaconda\n",
    "- https://www.continuum.io/downloads"
   ]
  },
  {
   "cell_type": "code",
   "execution_count": null,
   "metadata": {},
   "outputs": [],
   "source": [
    "IPython.display.Audio(\"voice/jupyter_notebook.mp3\")"
   ]
  },
  {
   "cell_type": "code",
   "execution_count": null,
   "metadata": {
    "slideshow": {
     "slide_type": "-"
    }
   },
   "outputs": [],
   "source": [
    "print(\"hello, world\")"
   ]
  },
  {
   "cell_type": "markdown",
   "metadata": {
    "slideshow": {
     "slide_type": "skip"
    }
   },
   "source": [
    "You can run the cells out of order, but **variables** are saved."
   ]
  },
  {
   "cell_type": "code",
   "execution_count": null,
   "metadata": {
    "slideshow": {
     "slide_type": "-"
    }
   },
   "outputs": [],
   "source": [
    "x = 123"
   ]
  },
  {
   "cell_type": "code",
   "execution_count": null,
   "metadata": {
    "slideshow": {
     "slide_type": "-"
    }
   },
   "outputs": [],
   "source": [
    "print(x)"
   ]
  },
  {
   "cell_type": "markdown",
   "metadata": {
    "slideshow": {
     "slide_type": "slide"
    }
   },
   "source": [
    "# Goal\n",
    "\n",
    "Implementation of\n",
    "\n",
    "1. **Nucleotide Diversity**\n",
    "2. **Segregating sites** (<font color=gray>detecting SNPs</font>)\n",
    "3. **Tajima's D**\n",
    "\n",
    "in Python\n",
    "\n"
   ]
  },
  {
   "cell_type": "code",
   "execution_count": null,
   "metadata": {},
   "outputs": [],
   "source": [
    "IPython.display.Audio(\"voice/goal.mp3\")"
   ]
  },
  {
   "cell_type": "markdown",
   "metadata": {},
   "source": [
    "# Plan\n",
    "\n",
    "* https://github.com/masaomi/Bio334_2020#table-of-content\n",
    "\n",
    "\n",
    "\n",
    "1. Day1 (<font color=gray>though Python review</font>)\n",
    "    - Nucleotide diversity\n",
    "\n",
    "\n",
    "2. Day2 (<font color=gray>though population genetics review</font>)\n",
    "    - Tajima's D\n",
    "\n",
    "\n",
    "3. Day3\n",
    "    - Advanced practice (<font color=gray>if we have time</font>)\n"
   ]
  },
  {
   "cell_type": "markdown",
   "metadata": {},
   "source": [
    "# Lecture style\n",
    "\n",
    "\n",
    "**in each topic**\n",
    "1. Example (On-demand, Jupyter notebook, by yourself)\n",
    "2. Exercise (GitHub + Renku, by yourself)\n",
    "3. Check answer (Exercise-checker, by yourself)\n",
    "\n",
    "\n",
    "- Q&A (As needed, Slack)\n",
    "\n",
    "- *step by step, break a problem into as small pieces as possible*\n"
   ]
  },
  {
   "cell_type": "markdown",
   "metadata": {},
   "source": [
    "# Copy jupyter notebooks (to your local computer)\n",
    "\n",
    "\n",
    "* Start terminal\n",
    "\n",
    " $ git clone https://github.com/masaomi/Bio334_2019\n",
    " \n",
    " \n",
    "* Update jupyter notebooks\n",
    "\n",
    " $ git pull\n",
    "\n"
   ]
  },
  {
   "cell_type": "markdown",
   "metadata": {},
   "source": [
    "# Important skills (*in programming*)\n",
    "\n",
    "(behind (beyond?) the knowledge of language)\n",
    "\n",
    "1. Deduction  (syllogism, a -> b and b -> c then a->c)\n",
    "2. Induction  (generalization, <-> specialization)\n",
    "3. Abduction  (Inspiration, this comes after deduction and induction, aha! moment)\n",
    "\n"
   ]
  },
  {
   "cell_type": "markdown",
   "metadata": {},
   "source": [
    "# Today's Plan\n",
    "\n",
    "1. Part1 Quick Python review\n",
    "2. Part2 Comparison two sequences\n",
    "3. Part3 Nucleotide diversity\n"
   ]
  },
  {
   "cell_type": "markdown",
   "metadata": {},
   "source": [
    "# Part1 (*Quick Python Review*)\n",
    "\n",
    "1. Basic components\n",
    "2. Data structure\n",
    "3. Flow control statements\n",
    "\n",
    "Note\n",
    "- Please refer to Prof. CvM's group PDFs in detail\n",
    "- Required parts only for nucleotide diversity and Tajima's D implementation\n",
    "- No instruction: 1. how to use texteditor, 2. how to use terminal (Unix commands)\n"
   ]
  },
  {
   "cell_type": "markdown",
   "metadata": {},
   "source": [
    "# Useful links\n",
    "\n",
    "* Python https://www.python.org/\n",
    "* Tutorial https://docs.python.org/3/tutorial/\n",
    "* Glossary https://docs.python.org/3/glossary.html#glossary\n",
    "* The 5 Best Websites To Learn Python Programming http://www.makeuseof.com/tag/5-websites-learn-python-programming/\n"
   ]
  },
  {
   "cell_type": "markdown",
   "metadata": {},
   "source": [
    "# Basic Components\n",
    "\n",
    "* Variable type (numeric string boolean, operand)\n",
    "* Assignment operator (=)\n",
    "* Numeric operators (+ - * /')\n",
    "* Comparison operators (== > <)\n",
    "\n"
   ]
  },
  {
   "cell_type": "markdown",
   "metadata": {},
   "source": [
    "# Variable type (numeric string)\n",
    "\n",
    "* Numeric: 1 2 3 1.5 3.9\n",
    "* String: 'hello' \"bye\" \n",
    "\n",
    "Note   \n",
    "- = assignment operator, direction right to left (variable)\n",
    "- print() needs round brackets in Python3\n",
    "\n"
   ]
  },
  {
   "cell_type": "code",
   "execution_count": null,
   "metadata": {},
   "outputs": [],
   "source": [
    "x = 123\n",
    "print(x)\n",
    "print(\"hello\")\n"
   ]
  },
  {
   "cell_type": "markdown",
   "metadata": {},
   "source": [
    "# Numeric operators\n",
    "\n",
    "- +\n",
    "- -\n",
    "- *\n",
    "- /\n"
   ]
  },
  {
   "cell_type": "code",
   "execution_count": null,
   "metadata": {},
   "outputs": [],
   "source": [
    "x = 2\n",
    "y = 2\n",
    "a = x + y\n",
    "b = x - y\n",
    "c = x * y\n",
    "d = x / y\n",
    "\n",
    "print(a,b,c,d)"
   ]
  },
  {
   "cell_type": "markdown",
   "metadata": {},
   "source": [
    "Use round brackets if you are not sure which operator first"
   ]
  },
  {
   "cell_type": "code",
   "execution_count": null,
   "metadata": {},
   "outputs": [],
   "source": [
    "x = 2; y = 2;\n",
    "z = (x + y)\n",
    "z = (x - y)\n",
    "z = (x * y)\n",
    "z = (x / y)\n",
    "\n",
    "print(a,b,c,d)"
   ]
  },
  {
   "cell_type": "markdown",
   "metadata": {},
   "source": [
    "# Comparison operators\n",
    "\n",
    "    p == q # equal\n",
    "    p != q # not equal\n",
    "    p < q  # less than \n",
    "    p > q  # greater than\n",
    "    p <= q # less than equal\n",
    "    p >= q # greater than equal\n",
    "\n",
    "\n",
    "Q: What happens if it is used for string data?"
   ]
  },
  {
   "cell_type": "code",
   "execution_count": null,
   "metadata": {},
   "outputs": [],
   "source": [
    "p = 1\n",
    "q = 2\n",
    "print(p == q)\n",
    "print(p != q)\n",
    "print(p < q)\n",
    "print(p > q)\n",
    "print(p <= q )\n",
    "print(p >= q)"
   ]
  },
  {
   "cell_type": "markdown",
   "metadata": {},
   "source": [
    "# Multiline comments\n",
    "\n",
    "Use triple quation\n",
    "\n",
    "    '''\n",
    "    all comments from here\n",
    "    p == q # equal\n",
    "    p != q # not equal\n",
    "    p < q  # less than \n",
    "    until here \n",
    "    '''\n"
   ]
  },
  {
   "cell_type": "markdown",
   "metadata": {},
   "source": [
    "# Multiline text (Here-document)\n",
    "\n",
    "    print('''\n",
    "    all comments from here\n",
    "    p == q # equal\n",
    "    p != q # not equal\n",
    "    p < q  # less than \n",
    "    until here \n",
    "    ''')\n",
    "\n",
    "- every line is printed out\n"
   ]
  },
  {
   "cell_type": "code",
   "execution_count": null,
   "metadata": {},
   "outputs": [],
   "source": [
    "print('''\n",
    "all comments from here\n",
    "p == q # equal\n",
    "p != q # not equal\n",
    "p < q  # less than \n",
    "until here \n",
    "''')"
   ]
  },
  {
   "cell_type": "markdown",
   "metadata": {},
   "source": [
    "# Boolean expression\n",
    "\n",
    "* True/False\n",
    "\n",
    "- return value of comparison operation"
   ]
  },
  {
   "cell_type": "markdown",
   "metadata": {},
   "source": [
    "# Data structure\n",
    "\n",
    "* List: a set of indexed values, mutable\n",
    "* Tuple: a set of indexed values, immutable\n",
    "* Set: a set of uniq values, in random order\n",
    "* Dictionary: a set of key-value data, in random order\n",
    "\n"
   ]
  },
  {
   "cell_type": "markdown",
   "metadata": {},
   "source": [
    "# List\n",
    "\n",
    "* Indexed sequential data set\n",
    "* Indexed from *0* (not 1)\n",
    "* String object is processed like a list object"
   ]
  },
  {
   "cell_type": "code",
   "execution_count": null,
   "metadata": {},
   "outputs": [],
   "source": [
    "lst = [2, 4, 6, 8]\n",
    "print(lst[0])\n",
    "print(len(lst))\n",
    "\n",
    "str = \"hello\"\n",
    "print(str[0])\n",
    "print(len(str))"
   ]
  },
  {
   "cell_type": "markdown",
   "metadata": {},
   "source": [
    "# Tuple\n",
    "* Simlar to List\n",
    "* Immutable (you can set the values only once)"
   ]
  },
  {
   "cell_type": "code",
   "execution_count": null,
   "metadata": {},
   "outputs": [],
   "source": [
    "tpl = (2, 4, 6, 8)\n",
    "print(tpl[0])\n",
    "print(len(tpl))\n",
    "\n",
    "tpl[0] = 100 #=> error\n"
   ]
  },
  {
   "cell_type": "markdown",
   "metadata": {},
   "source": [
    "# Set\n",
    "\n",
    "* Unique data set in random order\n",
    "* Duplicated values are removed\n",
    "* Useful to remove duplicated values from list\n",
    "* set() is a built-in funciton to convert list into set object\n",
    "\n",
    "\n"
   ]
  },
  {
   "cell_type": "code",
   "execution_count": null,
   "metadata": {},
   "outputs": [],
   "source": [
    "s = set([2, 2, 3, 3])\n",
    "print(s)\n",
    "string = \"hello\"\n",
    "print(set(string))\n",
    "print(sorted(set(string)))"
   ]
  },
  {
   "cell_type": "markdown",
   "metadata": {},
   "source": [
    "# Dictionary\n",
    "\n",
    "* Key-value data set in random order\n",
    "* The key should be unique\n",
    "* The key can be numeric or string\n"
   ]
  },
  {
   "cell_type": "code",
   "execution_count": null,
   "metadata": {},
   "outputs": [],
   "source": [
    "d = {\"apple\":100, \"orange\":500, \"banana\": 300}\n",
    "print(d)\n",
    "print(d[\"apple\"])\n",
    "d[\"apple\"] = 700\n",
    "print(d)\n",
    "print(sorted(d.items()))"
   ]
  },
  {
   "cell_type": "markdown",
   "metadata": {},
   "source": [
    "# Flow Control\n",
    "\n",
    "![flow](https://raw.githubusercontent.com/masaomi/Bio334_2019/master/jupyter_notebooks/png/3flows.png)\n",
    "\n",
    "3 fundamental flows\n",
    "\n",
    "1. Sequential processing\n",
    "2. Conditional branching\n",
    "3. Repetitive processing\n",
    "\n"
   ]
  },
  {
   "cell_type": "markdown",
   "metadata": {},
   "source": [
    "# Flow control statements \n",
    "\n",
    "* *if* : conditional branching\n",
    "* *while, for* : repetitive processing\n",
    "\n"
   ]
  },
  {
   "cell_type": "markdown",
   "metadata": {},
   "source": [
    "# If \n",
    "\n",
    "conditional branching\n",
    "\n",
    "    if <condition>:\n",
    "        # process1\n",
    "    else: \n",
    "        # process2\n",
    "\n",
    "* if <condition> is *True*, process1 runs, otherwise process2 runs\n",
    "\n",
    "Q: How to manage multi conditions?"
   ]
  },
  {
   "cell_type": "code",
   "execution_count": null,
   "metadata": {},
   "outputs": [],
   "source": [
    "x = 12\n",
    "if x > 100:\n",
    "    print(\"process1\")\n",
    "elif x > 50: \n",
    "    print(\"process2\")\n",
    "else: \n",
    "    print(\"process3\")"
   ]
  },
  {
   "cell_type": "markdown",
   "metadata": {},
   "source": [
    "# While \n",
    "\n",
    "Repetitive processing\n",
    "\n",
    "    while <condition>:\n",
    "        # process\n",
    "\n",
    "* While <condition> is *True*, the process runs\n",
    "* Until <condition> becomes *False*, the process runs\n",
    "\n",
    "\n"
   ]
  },
  {
   "cell_type": "code",
   "execution_count": null,
   "metadata": {},
   "outputs": [],
   "source": [
    "x = 0\n",
    "while x <= 10:\n",
    "    print(x)\n",
    "    x += 1\n",
    "\n",
    "# Q: How many times print() runs?"
   ]
  },
  {
   "cell_type": "code",
   "execution_count": null,
   "metadata": {},
   "outputs": [],
   "source": [
    "# Quiz\n",
    "x = 0\n",
    "a = 0.0\n",
    "while x < 10:\n",
    "    print(x)\n",
    "    x += 1\n",
    "    a += 0.1\n",
    "print(a == 1.0) #=> True or False?"
   ]
  },
  {
   "cell_type": "markdown",
   "metadata": {},
   "source": [
    "# For \n",
    "\n",
    "Repetitive processing\n",
    "\n",
    "    for <variable> in <list>:\n",
    "        # process\n",
    "\n",
    "* Each element of <list> is assigned to <variable> in order and repeat process\n",
    "\n"
   ]
  },
  {
   "cell_type": "code",
   "execution_count": null,
   "metadata": {},
   "outputs": [],
   "source": [
    "list1 = [1, 3, 5, 7]\n",
    "for i in list1:\n",
    "    print(i)"
   ]
  },
  {
   "cell_type": "code",
   "execution_count": null,
   "metadata": {},
   "outputs": [],
   "source": [
    "# While instead For\n",
    "\n",
    "list1 = [1, 3, 5, 7]\n",
    "i = 0\n",
    "while i < len(list1):\n",
    "    print(list1[i])\n",
    "    i += 1"
   ]
  },
  {
   "cell_type": "markdown",
   "metadata": {},
   "source": [
    "# For tips\n",
    "\n",
    "A certain number of times of iteration\n",
    "\n",
    "    for i in range(0, n):\n",
    "        print(i)\n",
    "\n",
    "* The variable *i* is printed 4 times with increment\n",
    "\n"
   ]
  },
  {
   "cell_type": "code",
   "execution_count": null,
   "metadata": {},
   "outputs": [],
   "source": [
    "for i in range(0, 4):\n",
    "    print(i)"
   ]
  },
  {
   "cell_type": "code",
   "execution_count": null,
   "metadata": {},
   "outputs": [],
   "source": [
    "list1 = [1, 3, 5, 7]\n",
    "for i in range(0, 4):\n",
    "    print(list1[i])"
   ]
  },
  {
   "cell_type": "markdown",
   "metadata": {},
   "source": [
    "# Mini-Summary\n",
    "\n",
    "* Data type: Numeric, String, Boolean\n",
    "* Data Strucutre: *List*, *Set*\n",
    "* Flow Control: *if*, *while*, *for*\n",
    "\n",
    "\n",
    "- **You should design an algorithm to solve a problem with these items**\n",
    "- Nucleotide Diversity and Tajima's D can be implemented using these items\n",
    "\n",
    "\n"
   ]
  },
  {
   "cell_type": "code",
   "execution_count": null,
   "metadata": {},
   "outputs": [],
   "source": [
    "# Example1: Calculate the sum of a list\n",
    "\n",
    "list1 = [1, 2, 3, 4, 5, 6]\n",
    "total = 0             \n",
    "for i in list1:      \n",
    "    total += i      \n",
    "print(\"total =\", total)\n"
   ]
  },
  {
   "cell_type": "code",
   "execution_count": null,
   "metadata": {},
   "outputs": [],
   "source": [
    "# Example1\n",
    "# Break it down when you are confused about repeat process (specialization)\n",
    "\n",
    "list1 = [1, 2, 3, 4, 5, 6]\n",
    "total = 0             \n",
    "\n",
    "total += list1[0]\n",
    "total += list1[1]\n",
    "total += list1[2]\n",
    "total += list1[3]\n",
    "total += list1[4]\n",
    "total += list1[5]\n",
    "\n",
    "print(total)"
   ]
  },
  {
   "cell_type": "code",
   "execution_count": null,
   "metadata": {},
   "outputs": [],
   "source": [
    "# Example1\n",
    "# Break it down when you are confused about repeat process (specialization)\n",
    "\n",
    "list1 = [1, 2, 3, 4, 5, 6]\n",
    "total = 0             \n",
    "\n",
    "total = total + list1[0]\n",
    "total = total + list1[1]\n",
    "total = total + list1[2]\n",
    "total = total + list1[3]\n",
    "total = total + list1[4]\n",
    "total = total + list1[5]\n",
    "\n",
    "print(total)"
   ]
  },
  {
   "cell_type": "code",
   "execution_count": null,
   "metadata": {},
   "outputs": [],
   "source": [
    "# Example1\n",
    "# Another way (inspiration!!)\n",
    "\n",
    "list1 = [1, 2, 3, 4, 5, 6]\n",
    "print(\"total =\", sum(list1))\n",
    "\n",
    "# sum() is a built-in function to calculate the sum of a list\n"
   ]
  },
  {
   "cell_type": "code",
   "execution_count": null,
   "metadata": {},
   "outputs": [],
   "source": [
    "# Example1\n",
    "# Yet another way (inspiration!!)\n",
    "\n",
    "print(\"total =\", sum(range(1, 7)))\n",
    "\n",
    "# range() is also a built-in function to generate sequential list"
   ]
  },
  {
   "cell_type": "markdown",
   "metadata": {},
   "source": [
    "# Mini-Summary\n",
    "\n",
    "Generalization\n",
    "\n",
    "* In order to process *list*, use *for*\n",
    "\n",
    "\n",
    "    for <varriable> in <list>:\n",
    "        # process for each element\n",
    "\n",
    "\n"
   ]
  },
  {
   "cell_type": "markdown",
   "metadata": {},
   "source": [
    "# Exercise Day1 Part1\n",
    "\n",
    "Basic python review\n",
    "\n",
    "- https://gist.github.com/masaomi/75ac75aa49d3603697e24864b2345d4d\n",
    "\n"
   ]
  }
 ],
 "metadata": {
  "celltoolbar": "Slideshow",
  "kernelspec": {
   "display_name": "Python 3",
   "language": "python",
   "name": "python3"
  },
  "language_info": {
   "codemirror_mode": {
    "name": "ipython",
    "version": 3
   },
   "file_extension": ".py",
   "mimetype": "text/x-python",
   "name": "python",
   "nbconvert_exporter": "python",
   "pygments_lexer": "ipython3",
   "version": "3.8.2"
  }
 },
 "nbformat": 4,
 "nbformat_minor": 1
}
