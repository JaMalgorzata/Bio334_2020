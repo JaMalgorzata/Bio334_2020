{
 "cells": [
  {
   "cell_type": "markdown",
   "metadata": {},
   "source": [
    "# Bio334 Practical Bioinformatics\n",
    "\n",
    "Exercise\n",
    "13-15, May, 2020\n",
    "\n",
    "## Masaomi Hatakeyama\n",
    "- gihub https://github.com/masaomi/Bio334_2020\n",
    "- TAs: Gwyneth Halstead-Nussloch, Stefan Milosavljevic, Moeko Okada"
   ]
  },
  {
   "cell_type": "markdown",
   "metadata": {},
   "source": [
    "# Day2 Part2\n",
    "\n",
    "Functionn, Method\n",
    "\n"
   ]
  },
  {
   "cell_type": "code",
   "execution_count": null,
   "metadata": {},
   "outputs": [],
   "source": [
    "import IPython.display\n",
    "IPython.display.Audio(\"voice/day2_part2.mp3\")"
   ]
  },
  {
   "cell_type": "markdown",
   "metadata": {
    "slideshow": {
     "slide_type": "notes"
    }
   },
   "source": [
    "Let me introduce another tecnique to improve reusability. It is function.\n",
    "\n",
    "Function or method in computer programming is a block of code. Function has input and output. The input value is called argument, and the output value is called return value.\n",
    "\n",
    "Just please quickly review what you did yesterday and go to the explanation of the function."
   ]
  },
  {
   "cell_type": "markdown",
   "metadata": {},
   "source": [
    "# Quick review \n",
    "\n",
    "1. Reporting results\n",
    "2. Sequence comparison\n",
    "3. Combination list and double loop\n",
    "4. Nucleotide diversity formula\n",
    "\n"
   ]
  },
  {
   "cell_type": "markdown",
   "metadata": {},
   "source": [
    "# Nucleotide Diversity\n",
    "\n",
    "<img src=\"png/pi.png\" width=50%>\n",
    "\n",
    "- $d$: number of nucleotide differences'))\n",
    "- $n$: number of sequences\n",
    "- $l$: length of sequence\n",
    "\n"
   ]
  },
  {
   "cell_type": "markdown",
   "metadata": {},
   "source": [
    "# Algorithm \n",
    "\n",
    "General Flow\n",
    "\n",
    "1. load an aligned fasta file \n",
    "2. **pairwise comparison of sequences**\n",
    "3. **count the number of different nucleotide**\n",
    "4. sum them up\n",
    "5. divide by the num of combination & seq length\n",
    "\n"
   ]
  },
  {
   "cell_type": "markdown",
   "metadata": {},
   "source": [
    "# Break it down\n",
    "\n",
    "Pairwise comparison, double loop\n",
    "\n",
    "![nd](png/count_diff_loop.png)\n"
   ]
  },
  {
   "cell_type": "markdown",
   "metadata": {},
   "source": [
    "# Combination\n",
    "\n",
    "Pairwise comparison, double loop\n",
    "\n",
    "    list = [seq1, seq2, seq3, seq4, seq5]  \n",
    "    for i in range(0, len(list)):       \n",
    "        for j in range(i+1, len(list)):  \n",
    "                print(list[i], list[j]) \n",
    "\n",
    "\n",
    "- Remember the exercise yesterday\n",
    "\n"
   ]
  },
  {
   "cell_type": "code",
   "execution_count": null,
   "metadata": {},
   "outputs": [],
   "source": [
    "seq1 = \"seq1\"\n",
    "seq2 = \"seq2\"\n",
    "seq3 = \"seq3\"\n",
    "seq4 = \"seq4\"\n",
    "seq5 = \"seq5\"\n",
    "\n",
    "lst = [seq1, seq2, seq3, seq4, seq5]  \n",
    "for i in range(0, len(lst)):       \n",
    "    for j in range(i+1, len(lst)):  \n",
    "        print(lst[i], lst[j]) \n"
   ]
  },
  {
   "cell_type": "markdown",
   "metadata": {},
   "source": [
    "# Break it down\n",
    "\n",
    "count the number of different nucleotide\n",
    "\n",
    "* Focusing on only two sequences\n",
    "* Compare nucleotide in each position\n",
    "* If they are different, count it\n",
    "\n"
   ]
  },
  {
   "cell_type": "markdown",
   "metadata": {},
   "source": [
    "# Compare two sequences\n",
    "\n",
    "for + if\n",
    "\n",
    "![compare](https://raw.githubusercontent.com/masaomi/Bio334_2019/master/jupyter_notebooks/png/compare.png)\n",
    "\n"
   ]
  },
  {
   "cell_type": "markdown",
   "metadata": {},
   "source": [
    "# Compare two sequences (for + if)\n",
    "\n",
    "    seq1 = \"ATGC\"\n",
    "    seq2 = \"ATAT\"\n",
    "    same = 0; diff = 0;\n",
    "    for i in range(0, len(seq1)):\n",
    "        if seq1[i] == seq2[i]:\n",
    "            same += 1        \n",
    "        else:               \n",
    "            diff += 1      \n",
    "\n",
    "$\\Rightarrow$ If you feel still complicated, break it down further without loop\n",
    "\n"
   ]
  },
  {
   "cell_type": "code",
   "execution_count": null,
   "metadata": {},
   "outputs": [],
   "source": [
    "seq1 = \"ATGC\"\n",
    "seq2 = \"ATAT\"\n",
    "same = 0; diff = 0;\n",
    "for i in range(0, len(seq1)):\n",
    "    if seq1[i] == seq2[i]:\n",
    "        same += 1        \n",
    "    else:               \n",
    "        diff += 1      \n",
    "print(diff)"
   ]
  },
  {
   "cell_type": "code",
   "execution_count": null,
   "metadata": {},
   "outputs": [],
   "source": [
    "# Compare two sequences\n",
    "# without loop\n",
    "\n",
    "seq1 = \"ATGC\"\n",
    "seq2 = \"ATAT\"\n",
    "diff = 0\n",
    "if seq1[0] == seq2[0]:\n",
    "    diff += 1\n",
    "if seq1[1] == seq2[1]:\n",
    "    diff += 1\n",
    "if seq1[2] == seq2[2]:\n",
    "    diff += 1\n",
    "if seq1[3] == seq2[3]:\n",
    "    diff += 1\n",
    "\n",
    "print(diff)\n"
   ]
  },
  {
   "cell_type": "markdown",
   "metadata": {},
   "source": [
    "# Core part, Nucleotide diversity\n",
    "\n",
    "        seqs = [seq1, seq2, seq3] \n",
    "        total_diff = 0\n",
    "        for i in range(0, len(seqs)):\n",
    "            for j in range(i+1, len(seqs)):\n",
    "                for k in range(0, len(seqs[i])):\n",
    "                    if not seqs[i][k] == seqs[j][k]:\n",
    "                        total_diff += 1 \n",
    "\n"
   ]
  },
  {
   "cell_type": "code",
   "execution_count": null,
   "metadata": {},
   "outputs": [],
   "source": [
    "seq1 = \"ATGC\"\n",
    "seq2 = \"ATAT\"\n",
    "seq3 = \"ATGT\"\n",
    "\n",
    "seqs = [seq1, seq2, seq3] \n",
    "total_diff = 0\n",
    "for i in range(0, len(seqs)):\n",
    "    for j in range(i+1, len(seqs)):\n",
    "        for k in range(0, len(seqs[i])):\n",
    "            if not seqs[i][k] == seqs[j][k]:\n",
    "                total_diff += 1 \n",
    "print(total_diff)        "
   ]
  },
  {
   "cell_type": "markdown",
   "metadata": {},
   "source": [
    "# Define a function\n",
    "\n",
    "    def <function name>(<arguments>):\n",
    "        # process\n",
    "        return <return value>\n",
    "\n",
    "* **Function** is a small part of processes\n",
    "* **Argument** is input and **return value** is output\n",
    "\n"
   ]
  },
  {
   "cell_type": "code",
   "execution_count": null,
   "metadata": {},
   "outputs": [],
   "source": [
    "IPython.display.Audio(\"voice/function.mp3\")"
   ]
  },
  {
   "cell_type": "markdown",
   "metadata": {
    "slideshow": {
     "slide_type": "notes"
    }
   },
   "source": [
    "When you use a function, you have to define the function before calling it. When you define a function, you need *def* keyword and its function name. If you need some arguments, you can put it as a variable in round brackets.\n",
    "\n",
    "The process needs indentation and the *return* keyword sets the result of the process, which becomes the return value. You can omit the return value.\n",
    "\n",
    "\n",
    "You can see three examples below. The first example has no argument and no return value.\n",
    "\n",
    "The second example has an argument but no return value.\n",
    "\n",
    "The final example has both an argument and return value.\n",
    "\n",
    "Please look at carefully both fucntion definion and function calling, how to call the function.\n",
    "\n"
   ]
  },
  {
   "cell_type": "code",
   "execution_count": null,
   "metadata": {},
   "outputs": [],
   "source": [
    "# Example1\n",
    "# Without an argument and return value\n",
    "\n",
    "def hello():        \n",
    "    print(\"hello, world!!\")\n",
    "    \n",
    "hello()"
   ]
  },
  {
   "cell_type": "code",
   "execution_count": null,
   "metadata": {},
   "outputs": [],
   "source": [
    "# Example2\n",
    "# With an argument and without return value\n",
    "\n",
    "def hello(word):\n",
    "    print(\"hello,\", word)\n",
    "\n",
    "hello(\"python!!\")\n",
    "\n"
   ]
  },
  {
   "cell_type": "code",
   "execution_count": null,
   "metadata": {},
   "outputs": [],
   "source": [
    "# Example3\n",
    "# With an argument and return value\n",
    "\n",
    "def hello(word):\n",
    "    sentence = \"hello, %s!!\" % word\n",
    "    return sentence\n",
    "\n",
    "\n",
    "x = hello(\"bio334\")\n",
    "print(x)\n",
    "\n"
   ]
  },
  {
   "cell_type": "markdown",
   "metadata": {},
   "source": [
    "# Core part, Nucleotide diversity\n",
    "\n",
    "        seqs = [seq1, seq2, seq3] \n",
    "        total_diff = 0\n",
    "        for i in range(0, len(seqs)):\n",
    "            for j in range(i+1, len(seqs)):\n",
    "                for k in range(0, len(seqs[i])):\n",
    "                    if not seqs[i][k] == seqs[j][k]:\n",
    "                        total_diff += 1 \n",
    "\n",
    "Q: How do you design a function?\n",
    "\n"
   ]
  },
  {
   "cell_type": "markdown",
   "metadata": {},
   "source": [
    "# Mini-Summary\n",
    "\n",
    "* Define a function before calling the function\n",
    "* A funciton can have **argument(s)** and **return value**\n",
    "* A function makes the code more strucutred and human readable\n",
    "\n"
   ]
  },
  {
   "cell_type": "code",
   "execution_count": null,
   "metadata": {},
   "outputs": [],
   "source": [
    "IPython.display.Audio(\"voice/summary_day2_part2.mp3\")"
   ]
  },
  {
   "cell_type": "markdown",
   "metadata": {
    "slideshow": {
     "slide_type": "notes"
    }
   },
   "source": [
    "Now let's think how you can define a function, a block of code.\n",
    "\n",
    "\n",
    "It is actually the generalization of process. I just give you some hints. There are some solutions. You can define any block of code as a function, but there are some tips or criteria to define a function.\n",
    "\n",
    "For example.\n",
    "\n",
    "* If you do copy and paste more than twice, that can be a function.\n",
    "* If you think a lot of comments, it must be a function.\n",
    "* If you see more than twice nested loop, it can be a function.\n",
    "* If your code becomes longer than 100 lines or more than one screen, it would be better to define a function even if the function is called only once.\n",
    "\n",
    "These are just my recommendations, so you do not have to do it. Just please keep in mind as a hint and let's go on to the exercise.\n"
   ]
  },
  {
   "cell_type": "markdown",
   "metadata": {},
   "source": [
    "# How should we design a function?\n",
    "\n",
    "generalization\n",
    "\n",
    "* **Reusable**: If you do copy&paste more than twice\n",
    "* **Break down**: If you need many comments\n",
    "* **Nested loops**: If you need more than triple nested loops\n",
    "* **Long spaghetti**: If your code becomes more than 100 line (one screen)\n"
   ]
  },
  {
   "cell_type": "markdown",
   "metadata": {},
   "source": [
    "# Exercise Day2 Part2\n",
    "\n",
    "Define a function and calling\n",
    "\n",
    "- https://gist.github.com/masaomi/c6c74db5ba67ff58a6b75ac195bd8143\n"
   ]
  }
 ],
 "metadata": {
  "celltoolbar": "Slideshow",
  "kernelspec": {
   "display_name": "Python 3",
   "language": "python",
   "name": "python3"
  },
  "language_info": {
   "codemirror_mode": {
    "name": "ipython",
    "version": 3
   },
   "file_extension": ".py",
   "mimetype": "text/x-python",
   "name": "python",
   "nbconvert_exporter": "python",
   "pygments_lexer": "ipython3",
   "version": "3.8.2"
  }
 },
 "nbformat": 4,
 "nbformat_minor": 1
}
