{
 "cells": [
  {
   "cell_type": "markdown",
   "metadata": {},
   "source": [
    "# Bio334 Practical Bioinformatics\n",
    "\n",
    "Exercise\n",
    "13-15, May, 2020\n",
    "\n",
    "## Masaomi Hatakeyama\n",
    "- gihub https://github.com/masaomi/Bio334_2020\n",
    "- TAs: Gwyneth Halstead-Nussloch, Stefan Milosavljevic, Moeko Okada"
   ]
  },
  {
   "cell_type": "markdown",
   "metadata": {},
   "source": [
    "# Day2 Part4\n",
    "\n",
    "Tajima's D calculation\n",
    "\n"
   ]
  },
  {
   "cell_type": "code",
   "execution_count": null,
   "metadata": {},
   "outputs": [],
   "source": [
    "import IPython.display\n",
    "IPython.display.Audio(\"voice/day2_part4.mp3\")"
   ]
  },
  {
   "cell_type": "markdown",
   "metadata": {},
   "source": [
    "In this part, we will finally complete the Tajima's D implementation. \n",
    "\n",
    "The rest part is the denominator of the fraction, the standard deviation of the small *d*. But actually, we cannot know the value. So, we will estimate the value by using the formula in the original paper.\n",
    "\n",
    "The same equation is written in the wikipedia.\n",
    "\n",
    "The equation looks complicated but it is not so difficult. It has only addition, subtraction, multiplification, and division. Just one thing note that the large *S* in the wikipedia equation is the total number of segregating sites, it is not the small *s* in the Tajima's D formula below.\n",
    "\n",
    "*k hat* is not the small *pi*, but it is sometimes expressed by large *PI*, which is not devided by the length of the sequence.\n",
    "\n",
    "If you have a question, please do not hesitate to ask in Slack."
   ]
  },
  {
   "cell_type": "markdown",
   "metadata": {},
   "source": [
    "# Tajima's D\n",
    "\n",
    "One of summary statistics \n",
    "\n",
    "  $Tajima's D = \\frac{d}{\\sqrt{V(d)}}, d = \\pi - s/\\sum_{i=1}^{n-1}{\\frac{1}{i}}$\n",
    "\n",
    "* $\\pi$: nucleotide diversity\n",
    "* $s$: rate of segregating site = (number of segregating sites) / (length of sequence)\n",
    "* $n$: number of sequences\n",
    "\n",
    "- Reference: Tajima, F. Genetics 123, 585–95, 1989\n",
    "- http://en.wikipedia.org/wiki/Tajima's_D\n",
    "- What is segregating site?\n",
    "\n"
   ]
  },
  {
   "cell_type": "markdown",
   "metadata": {},
   "source": [
    "# Estimated SD of $d$\n",
    "\n",
    "![d](png/estimated_d_sd.png)\n",
    "\n",
    "\n",
    "[Wikipedia:TajimasD](https://en.wikipedia.org/wiki/Tajima%27s_D)\n",
    "\n",
    "\n",
    "Note\n",
    "- S (large S) in the formula above is the number of segregating sites, not the rate of segregating sites"
   ]
  },
  {
   "cell_type": "markdown",
   "metadata": {},
   "source": [
    "# What is Tajima's D?\n",
    "\n",
    "* calculated pi vs. estimated pi (from the number of segregating sites)\n",
    "* constant population and no natural selection $\\Rightarrow d = 0$\n",
    "* higher heterozygous sites$\\Rightarrow d > 0$\n",
    "* lower heterozygous sites $\\Rightarrow d < 0$\n",
    "\n",
    "Q: What is high/low heterozygous site? Singleton?\n"
   ]
  },
  {
   "cell_type": "code",
   "execution_count": null,
   "metadata": {},
   "outputs": [],
   "source": [
    "IPython.display.Audio(\"voice/tajimasd_meaning1.mp3\")"
   ]
  },
  {
   "cell_type": "markdown",
   "metadata": {
    "slideshow": {
     "slide_type": "notes"
    }
   },
   "source": [
    "Now you can start the exercise, but just please let me quickly check again the meaning of the Tajima's D.\n",
    "\n",
    "Tajima's D is actually the comparison between the calculated nucleotide diversity and the estimated nucleotide diversity from the number of segregating sites.\n",
    "\n",
    "In theory, under the constant population and no natural selection, I mean, under the nuetral condition, the Tajima's D should be plus/minus zero, which means the calculated nucleotide diveristy and the estimation from the number of SNP sites should be same.\n",
    "\n",
    "The positive D means the calculated actual nucleotide diversity is higher than the estimation, that is, the population has more high heterozygous sites than neutral, and negative D suggests the opposite, more low heterozygous sites than the neutral.\n",
    "\n",
    "\n",
    "I will show you this effect by simualtion below. One more good point to use computer proramming is the simulation. We can test a mathematical model numerically by setting any kind of condition virtually.\n",
    "\n",
    "\n",
    "If you are not interested in computer simulation or numerical experiment, please skip below and go on to the exercise."
   ]
  },
  {
   "cell_type": "markdown",
   "metadata": {},
   "source": [
    "# Why programming?\n",
    "\n",
    "* **Reusability**: Reproducibility, you can calculate with just one command type again\n",
    "* **Batch process**: Automation, computer can work while you are sleeping\n",
    "* **Understanding**: It helps you to learn algorithms, logics behind a problem, and it improves your logical thinking ability\n",
    "* <font color=red>**Computer simulation**</font>\n",
    "\n",
    "\n"
   ]
  },
  {
   "cell_type": "markdown",
   "metadata": {},
   "source": [
    "# Wright-Fisher Model\n",
    "\n",
    "Assuming\n",
    "* Haploid population\n",
    "* Constant population size\n",
    "* No natural selection (Random selection)\n",
    "* Point nucletide mutation\n",
    "\n"
   ]
  },
  {
   "cell_type": "code",
   "execution_count": null,
   "metadata": {},
   "outputs": [],
   "source": [
    "IPython.display.Audio(\"voice/wright_fisher_model.mp3\")"
   ]
  },
  {
   "cell_type": "markdown",
   "metadata": {
    "slideshow": {
     "slide_type": "notes"
    }
   },
   "source": [
    "Here, I will intorduce the most popular model in population genetics, called Wright-Fisher model. In this model, the following condistions are assumed.\n",
    "\n",
    "1. Haploid poppulation\n",
    "2. Constant population size\n",
    "3. No natural selection\n",
    "4. Only point mutation happens, no recombination, no structural variant happens, and so on.\n",
    "\n",
    "It means, this model can simulate the effect of genetic drift.\n",
    "\n",
    "If you want to know more detail, please refer to the wikipedia or search by google."
   ]
  },
  {
   "cell_type": "markdown",
   "metadata": {},
   "source": [
    "# Marbles in a Jar (Analogy) \n",
    "\n",
    "![analogy](https://raw.githubusercontent.com/masaomi/Bio334_2019/master/jupyter_notebooks/png/random_sampling.png)\n",
    "\n",
    "* 20 marbles in a jar\n",
    "* colors correspond to two different alleles\n",
    "* In each new generation the organisms reproduce at random\n",
    "\n",
    "\n",
    "\n",
    "[Wikipedia, genetic drift](https://en.wikipedia.org/wiki/Genetic_drift)"
   ]
  },
  {
   "cell_type": "markdown",
   "metadata": {},
   "source": [
    "# Simulation\n",
    "\n",
    "1. Population of nucleotide sequences\n",
    "2. Produce a new generation\n",
    "    1. select one sequence at random\n",
    "    2. point mutation \n",
    "    3. add it in a new population\n",
    "3. Repeat (2)\n",
    "\n",
    "### WF Model \n",
    "\n",
    "Parameters\n",
    "\n",
    "* Population size (number of sequences)\n",
    "* Length of sequence\n",
    "* Point mutation rate\n",
    "* Generation (iteration time)\n",
    "\n"
   ]
  },
  {
   "cell_type": "code",
   "execution_count": null,
   "metadata": {},
   "outputs": [],
   "source": [
    "IPython.display.Audio(\"voice/wright_fisher_simulation.mp3\")"
   ]
  },
  {
   "cell_type": "markdown",
   "metadata": {
    "slideshow": {
     "slide_type": "notes"
    }
   },
   "source": [
    "In this simulation, the calculation steps are as follows:\n",
    "1. Initialize the population\n",
    "2. repeating the generations\n",
    "\n",
    "in one generation, three things happen\n",
    "1. selecting one sequence at random\n",
    "2. inserting point mutations\n",
    "3. adding it in a new population\n",
    "\n",
    "This is continued until it becomes the fixed population size.\n",
    "\n",
    "To simplify in this simulation, I have not inserted the cross over step.\n"
   ]
  },
  {
   "cell_type": "markdown",
   "metadata": {},
   "source": [
    "# Allele Frequency\n",
    "\n",
    "without mutation\n",
    "\n",
    "![sim1](png/Random_genetic_drift_chart.png)\n",
    "\n",
    "- Wikipedia, genetic drift\n",
    "\n"
   ]
  },
  {
   "cell_type": "code",
   "execution_count": null,
   "metadata": {},
   "outputs": [],
   "source": [
    "IPython.display.Audio(\"voice/wright_fisher_result1.mp3\")"
   ]
  },
  {
   "cell_type": "markdown",
   "metadata": {
    "slideshow": {
     "slide_type": "notes"
    }
   },
   "source": [
    "As you can see the results above, the dynamics is critically depending on the population size. If the population size becomes bigger and bigger, the allele frequency gets close to a constant, which is, the inifinite population size and the constant allele frequency, are actually a part of the the assumptions in hardy-weinberg law."
   ]
  },
  {
   "cell_type": "markdown",
   "metadata": {},
   "source": [
    "# No Mutation\n",
    "\n",
    "Number of segregating sites\n",
    "\n",
    "![sim2](png/seg_sites_without_mutation.png)\n",
    "\n",
    "It goes to zero\n"
   ]
  },
  {
   "cell_type": "markdown",
   "metadata": {},
   "source": [
    "# No Mutation\n",
    "\n",
    "Nucleotide Diversity\n",
    "\n",
    "![sim3](png/nd_without_mutation.png)\n",
    "\n",
    "It goes to zero\n"
   ]
  },
  {
   "cell_type": "markdown",
   "metadata": {},
   "source": [
    "# No Mutation\n",
    "\n",
    "Tajima's D\n",
    "\n",
    "![sim4](png/td_without_mutation.png)\n",
    "\n",
    "It goes to minus\n"
   ]
  },
  {
   "cell_type": "code",
   "execution_count": null,
   "metadata": {},
   "outputs": [],
   "source": [
    "IPython.display.Audio(\"voice/wright_fisher_result2.mp3\")"
   ]
  },
  {
   "cell_type": "markdown",
   "metadata": {
    "slideshow": {
     "slide_type": "notes"
    }
   },
   "source": [
    "If there is no mutation, at the end of the generations, all the alleles will be gone, and no segregating site is left, which means that the nucleotide diversity becomes zero.\n",
    "\n",
    "I know this will never happen in the real world, but it is good to understand the model by simulation. "
   ]
  },
  {
   "cell_type": "markdown",
   "metadata": {},
   "source": [
    "# With Mutation\n",
    "\n",
    "Number of segregating sites\n",
    "\n",
    "![sim6](png/seg_sites_with_mutation.png)\n",
    "\n",
    "Keep constant with flactuating\n"
   ]
  },
  {
   "cell_type": "markdown",
   "metadata": {},
   "source": [
    "# With Mutation\n",
    "\n",
    "Nucleotide Diversity\n",
    "\n",
    "![sim7](png/nd_with_mutation.png)\n",
    "\n",
    "Both becomes same\n"
   ]
  },
  {
   "cell_type": "markdown",
   "metadata": {},
   "source": [
    "# With Mutation\n",
    "\n",
    "Tajima's D\n",
    "\n",
    "![sim8](png/td_with_mutation.png)\n",
    "\n",
    "Keep around zero\n"
   ]
  },
  {
   "cell_type": "code",
   "execution_count": null,
   "metadata": {},
   "outputs": [],
   "source": [
    "IPython.display.Audio(\"voice/wright_fisher_result3.mp3\")"
   ]
  },
  {
   "cell_type": "markdown",
   "metadata": {
    "slideshow": {
     "slide_type": "notes"
    }
   },
   "source": [
    "If the mutation is inserted in the model, the nucleotide diversity will be a constant with flactuation. and Tajima's D becomes zero, but flactulated. The range of the flactuation depends on the mutation rate and the population size.\n",
    "\n",
    "\n",
    "This is the effect of genetic drift under neutral. The critical parameters in this model are 1. mutation rate, and 2. population size.\n",
    "\n",
    "\n",
    "So, what can we learn from the model?\n",
    "\n",
    "\n",
    "I would say, the nucletide diversity is fluctuated depending on the population size or population dynamics and mutation rate, and it will take some time, some generations, to become a constant, it is called transient time (state). In the actual situlation, the population size is not a constant, so, I would say, the sampling storategy and/or sample size might become very crtical for the calculation of the nucletide diversity."
   ]
  },
  {
   "cell_type": "markdown",
   "metadata": {},
   "source": [
    "# Tajimas D > 0\n",
    "\n",
    "\n",
    "$\\pi > s/\\sum_{i=1}^{n-1}{\\frac{1}{i}}$\n",
    "\n",
    "* Many higher heterozygous sites\n",
    "  * Population size decreases rapidly (bottleneck effect, founder effect)\n",
    "  * Balancing selection (heterozygote advantage)\n",
    "\n"
   ]
  },
  {
   "cell_type": "markdown",
   "metadata": {},
   "source": [
    "# Tajimas D < 0\n",
    "\n",
    "  $\\pi < s/\\sum_{i=1}^{n-1}{\\frac{1}{i}}$\n",
    "\n",
    "* Many lower heterozygous sites\n",
    "  * Population size increases rapidly\n",
    "  * Positive/Negative selection (purifying selection, selective sweep, directional selection)\n",
    "\n",
    "\n",
    "Question?\n",
    "\n"
   ]
  },
  {
   "cell_type": "code",
   "execution_count": null,
   "metadata": {},
   "outputs": [],
   "source": [
    "IPython.display.Audio(\"voice/tajimasd_meaning2.mp3\")"
   ]
  },
  {
   "cell_type": "markdown",
   "metadata": {
    "slideshow": {
     "slide_type": "notes"
    }
   },
   "source": [
    "What kind of things can affect on the nucleotide diversity and Tajima's D to shift from the neutral condition?\n",
    "\n",
    "One is the population size effect, and another is the natural selection pressure.\n",
    "\n",
    "If the population size decreases rapidly, low heterozygous sites would be lost and high heterozygous sites would remain in the population. This is called bottleneck effect or founder effect, which would cause the nucletide diversity getting higher and Tajima's D positive.\n",
    "\n",
    "\n",
    "In contrast, if the population size increases rapidly, population expands quickly, a lot of segregating sites becomes low heterozygousity, like a singleton, and consequently, the nulecotide diversity gets lower, and Tajima's D becomes negative.\n",
    "\n",
    "The same thing could happen if some genes are selected. So the natural selection, i.e. directional selection, causes usually lower nucleotide diversity and negative Tajima's D.\n",
    "\n",
    "Blanacing selection, however, in which the heterozygousity has an advantage in the popualtion, would keep high heterozygous sites, and it causes higher nucleotide diversity and positive Tajima's D.\n"
   ]
  },
  {
   "cell_type": "markdown",
   "metadata": {},
   "source": [
    "# Example1\n",
    "\n",
    "* Rest part of d calculation\n",
    "\n",
    "    x = 0\n",
    "    n = 10\n",
    "    for i in range(1, n):\n",
    "        x += 1.0/i\n",
    "\n",
    "    a = [1.0/i for i in range(1, n)]\n",
    "    y = sum(a)\n",
    "\n",
    "    print(x)\n",
    "    print(sum(a))\n",
    "\n"
   ]
  },
  {
   "cell_type": "markdown",
   "metadata": {},
   "source": [
    "# Exercise Day2 Part4\n",
    "\n",
    "Tajima's D calculation!!\n",
    "\n",
    "- https://gist.github.com/masaomi/0f51c4a379a0b914c86c84f480e961df\n"
   ]
  }
 ],
 "metadata": {
  "celltoolbar": "Slideshow",
  "kernelspec": {
   "display_name": "Python 3",
   "language": "python",
   "name": "python3"
  },
  "language_info": {
   "codemirror_mode": {
    "name": "ipython",
    "version": 3
   },
   "file_extension": ".py",
   "mimetype": "text/x-python",
   "name": "python",
   "nbconvert_exporter": "python",
   "pygments_lexer": "ipython3",
   "version": "3.8.2"
  }
 },
 "nbformat": 4,
 "nbformat_minor": 1
}
