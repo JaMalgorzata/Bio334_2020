{
 "cells": [
  {
   "cell_type": "markdown",
   "metadata": {
    "slideshow": {
     "slide_type": "slide"
    }
   },
   "source": [
    "# Bio334 Practical Bioinformatics\n",
    "\n",
    "Exercise\n",
    "13-15, May, 2020\n",
    "\n",
    "## Masaomi Hatakeyama\n",
    "- gihub https://github.com/masaomi/Bio334_2020"
   ]
  },
  {
   "cell_type": "markdown",
   "metadata": {},
   "source": [
    "# Day1 Part3\n",
    "\n",
    "Compare more than two lists\n"
   ]
  },
  {
   "cell_type": "code",
   "execution_count": null,
   "metadata": {},
   "outputs": [],
   "source": [
    "# List of Lists\n",
    "\n",
    "lst1 = [0, 1]\n",
    "lst2 = [2, 3]\n",
    "\n",
    "lst = [lst1, lst2]\n",
    "print(lst[0][0]) # => ??\n",
    "print(lst[0][1]) # => ??\n",
    "print(lst[1][0]) # => ??\n",
    "print(lst[1][1]) # => ??\n",
    "     \n",
    "# a kind of table, two dimensional list"
   ]
  },
  {
   "cell_type": "code",
   "execution_count": null,
   "metadata": {},
   "outputs": [],
   "source": [
    "# List of Strings\n",
    "\n",
    "str1 = \"AT\"\n",
    "str2 = \"GC\"\n",
    "\n",
    "lst = [str1, str2]\n",
    "print(lst[0][0]) # => ??\n",
    "print(lst[0][1]) # => ??\n",
    "print(lst[1][0]) # => ??\n",
    "print(lst[1][1]) # => ??\n",
    "     \n",
    "# a kind of table, two dimensional list"
   ]
  },
  {
   "cell_type": "code",
   "execution_count": null,
   "metadata": {},
   "outputs": [],
   "source": [
    "# List of Strings\n",
    "\n",
    "str1 = \"AT\"\n",
    "str2 = \"GC\"\n",
    "\n",
    "lst = [str1, str2]\n",
    "for i in range(0, 2):     # select string\n",
    "    for j in range(0, 2): # select position\n",
    "        print(lst[i][j])\n",
    "\n",
    "# \"Double loop\" is useful to access two dimensional data structure"
   ]
  },
  {
   "cell_type": "markdown",
   "metadata": {},
   "source": [
    "# Permutation\n",
    "\n",
    "    lst = [\"a\", \"b\", \"c\", \"d\", \"e\"]  \n",
    "    for i in range(0, len(lst)):       \n",
    "        for j in range(0, len(lst)):  \n",
    "            if not lst[i] == lst[j] \n",
    "                print(lst[i], lst[j]) \n",
    "\n",
    "* How many times is print() repeated?\n",
    "\n"
   ]
  },
  {
   "cell_type": "code",
   "execution_count": null,
   "metadata": {},
   "outputs": [],
   "source": [
    "# Permutation\n",
    "\n",
    "lst = [\"a\", \"b\", \"c\", \"d\", \"e\"]  \n",
    "    \n",
    "print(\"permutations\")\n",
    "for i in range(0, len(lst)):       \n",
    "    for j in range(0, len(lst)):  \n",
    "        if not lst[i] == lst[j]: \n",
    "            print(lst[i], lst[j]) "
   ]
  },
  {
   "cell_type": "markdown",
   "metadata": {},
   "source": [
    "# Permutation\n",
    "\n",
    "    lst = [\"a\", \"b\", \"c\", \"d\", \"e\"]  \n",
    "    for i in range(0, len(lst)):       \n",
    "        # process1\n",
    "\n",
    "* How many times is <(('tag:italic:process1'))> repeated?\n",
    "\n"
   ]
  },
  {
   "cell_type": "markdown",
   "metadata": {},
   "source": [
    "# Permutation\n",
    "\n",
    "    lst = [\"a\", \"b\", \"c\", \"d\", \"e\"]  \n",
    "    for i in range(0, len(lst)):       \n",
    "        # process1\n",
    "        for j in range(0, len(lst)):  \n",
    "            # process2\n",
    "\n",
    "* How many times is <(('tag:italic:process2'))> repeated?\n",
    "\n"
   ]
  },
  {
   "cell_type": "markdown",
   "metadata": {},
   "source": [
    "# Permutation\n",
    "\n",
    "    for i in range(0, len(lst)):       \n",
    "        # process1\n",
    "        for j in range(0, len(lst)):  \n",
    "            # process2\n",
    "            if not lst[i] == lst[j] \n",
    "                # process3\n",
    "\n",
    "* How many times is <(('tag:italic:process3'))> repeated?\n",
    "\n"
   ]
  },
  {
   "cell_type": "markdown",
   "metadata": {},
   "source": [
    "# Combination\n",
    "\n",
    "        lst = [\"a\", \"b\", \"c\", \"d\", \"e\"]  \n",
    "        for i in range(0, len(lst)):       # 5 times  \n",
    "            for j in range(i+1, len(lst)): # 5-(i+1) times\n",
    "                print(lst[i], lst[j]) \n",
    "\n",
    "- Q: How many times is print() repeated?\n",
    "\n"
   ]
  },
  {
   "cell_type": "markdown",
   "metadata": {},
   "source": [
    "# Mini-Summary1\n",
    "\n",
    "* In order to process two dimensional data, use double loop **for**\n",
    "\n",
    "    # List of list\n",
    "    for <varriable> in range(0, len(<list>)):\n",
    "      for <varriable> in range(0, len(<list>)):\n",
    "          # process for each element\n",
    "\n"
   ]
  },
  {
   "cell_type": "markdown",
   "metadata": {},
   "source": [
    "# Mini-Summary2\n",
    "\n",
    "* In order to process the combination of a list, use double loop **for**\n",
    "\n",
    "    # Combination of a list\n",
    "    for i in range(0, len(<list>)):\n",
    "      for j in range(i+1, len(<list>)):\n",
    "        # process of each combination\n",
    "\n",
    "* Be careful of the second loop index, begin with **i+1**.\n",
    "\n"
   ]
  },
  {
   "cell_type": "markdown",
   "metadata": {},
   "source": [
    "# Day1 Part3\n",
    "\n",
    "Nucleotide Diversity\n",
    "\n",
    "<img src=\"png/pi.png\" width=50%>\n",
    "\n",
    "- d: number of nucleotide differences\n",
    "- n: number of sequences\n",
    "- l: length of sequence\n",
    "\n",
    "\n",
    "Q: How do you design the code?\n",
    "\n"
   ]
  },
  {
   "cell_type": "markdown",
   "metadata": {},
   "source": [
    "# Exercise Day1 Part3\n",
    "\n",
    "Compare more than two lists\n",
    "\n",
    "- https://gist.github.com/masaomi/857f8257e4ec9d4fb80557a5890f22a3"
   ]
  }
 ],
 "metadata": {
  "celltoolbar": "Slideshow",
  "kernelspec": {
   "display_name": "Python 3",
   "language": "python",
   "name": "python3"
  },
  "language_info": {
   "codemirror_mode": {
    "name": "ipython",
    "version": 3
   },
   "file_extension": ".py",
   "mimetype": "text/x-python",
   "name": "python",
   "nbconvert_exporter": "python",
   "pygments_lexer": "ipython3",
   "version": "3.8.2"
  }
 },
 "nbformat": 4,
 "nbformat_minor": 1
}
