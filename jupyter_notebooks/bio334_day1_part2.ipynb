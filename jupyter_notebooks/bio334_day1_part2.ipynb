{
 "cells": [
  {
   "cell_type": "markdown",
   "metadata": {
    "slideshow": {
     "slide_type": "slide"
    }
   },
   "source": [
    "# Bio334 Practical Bioinformatics\n",
    "\n",
    "Exercise\n",
    "13-15, May, 2020\n",
    "\n",
    "## Masaomi Hatakeyama\n",
    "- gihub https://github.com/masaomi/Bio334_2020\n"
   ]
  },
  {
   "cell_type": "markdown",
   "metadata": {},
   "source": [
    "# Day1 Part2\n",
    "\n",
    "Compare two lists\n",
    "\n"
   ]
  },
  {
   "cell_type": "code",
   "execution_count": null,
   "metadata": {},
   "outputs": [],
   "source": [
    "list1 = [1, 2, 3, 4, 5, 6]\n",
    "list2 = [1, 2, 0, 4, 5, 0]\n",
    "    \n",
    "for i in range(0, len(list1)): \n",
    "    print(\"%s %s : \" % (list1[i], list2[i]), end = \"\")\n",
    "    if list1[i] == list2[i]:\n",
    "        print(\"True\")      \n",
    "    else:\n",
    "        print(\"False\")  "
   ]
  },
  {
   "cell_type": "markdown",
   "metadata": {},
   "source": [
    "# Compare two lists\n",
    "\n",
    "Break down the complicated part\n",
    "\n",
    "    for i in range(0, len(list1)): \n",
    "\n",
    "Q: What does this do?\n",
    "\n"
   ]
  },
  {
   "cell_type": "code",
   "execution_count": null,
   "metadata": {},
   "outputs": [],
   "source": [
    "print(len(list1))"
   ]
  },
  {
   "cell_type": "code",
   "execution_count": null,
   "metadata": {},
   "outputs": [],
   "source": [
    "print(range(0, 6))"
   ]
  },
  {
   "cell_type": "code",
   "execution_count": null,
   "metadata": {},
   "outputs": [],
   "source": [
    "for i in range(0, len(list1)):\n",
    "    print(i)"
   ]
  },
  {
   "cell_type": "code",
   "execution_count": null,
   "metadata": {},
   "outputs": [],
   "source": [
    "for i in [0,1,2,3,4,5,6]: \n",
    "    print(i)"
   ]
  },
  {
   "cell_type": "markdown",
   "metadata": {},
   "source": [
    "# Compare two lists\n",
    "\n",
    "    list1 = [1, 2, 3, 4, 5, 6]\n",
    "    list2 = [1, 2, 0, 4, 5, 0]\n",
    "    \n",
    "    for i in [0, 1, 2, 3, 4, 5]: \n",
    "        print(\"%s %s : \" % (list1[i], list2[i]), end = \"\")\n",
    "\n",
    "* What does the print() do?\n",
    "\n",
    "\n"
   ]
  },
  {
   "cell_type": "code",
   "execution_count": null,
   "metadata": {},
   "outputs": [],
   "source": [
    "list1 = [1, 2, 3, 4, 5, 6]\n",
    "list2 = [1, 2, 0, 4, 5, 0]\n",
    "\n",
    "for i in [0, 1, 2, 3, 4, 5]: \n",
    "    print(\"%s %s : \" % (list1[i], list2[i]), end = \"\")"
   ]
  },
  {
   "cell_type": "markdown",
   "metadata": {},
   "source": [
    "# Compare two lists\n",
    "\n",
    "        print(\"%s %s : \" % (list1[i], list2[i]), end = \"\")\n",
    "\n",
    "* print(\"%s\" % (variable)): shows the variable at the %s part\n",
    "* print(\"XXX\", end=\"\"): without line break (in Python3')\n"
   ]
  },
  {
   "cell_type": "markdown",
   "metadata": {},
   "source": [
    "# Compare two lists\n",
    "\n",
    "    list1 = [1, 2, 3, 4, 5, 6]\n",
    "    list2 = [1, 2, 0, 4, 5, 0]\n",
    "    \n",
    "    for i in range(0, len(list1)): \n",
    "        if list1[i] == list2[i]:\n",
    "\n",
    "* What does this do?\n",
    "\n"
   ]
  },
  {
   "cell_type": "code",
   "execution_count": null,
   "metadata": {},
   "outputs": [],
   "source": [
    "list1 = [1, 2, 3, 4, 5, 6]\n",
    "list2 = [1, 2, 0, 4, 5, 0]\n",
    "\n",
    "for i in range(0, len(list1)): \n",
    "    if list1[i] == list2[i]:\n",
    "        print(i, list1[i], list2[i], \"True\")"
   ]
  },
  {
   "cell_type": "markdown",
   "metadata": {},
   "source": [
    "# Compare two lists\n",
    "\n",
    "    list1 = [1, 2, 3, 4, 5, 6]\n",
    "    list2 = [1, 2, 0, 4, 5, 0]\n",
    "    \n",
    "    if list1[0] == list2[0]:\n",
    "    if list1[1] == list2[1]:\n",
    "    if list1[2] == list2[2]:\n",
    "    if list1[3] == list2[3]:\n",
    "    if list1[4] == list2[4]:\n",
    "    if list1[5] == list2[5]:\n",
    "\n",
    "* Compare each element \n",
    "\n"
   ]
  },
  {
   "cell_type": "markdown",
   "metadata": {},
   "source": [
    "# Compare two lists\n",
    "\n",
    "    list1 = [1, 2, 3, 4, 5, 6]\n",
    "    list2 = [1, 2, 0, 4, 5, 0]\n",
    "    \n",
    "    if list1[0] == list2[0]:\n",
    "        print(\"True\")      \n",
    "    else:\n",
    "        print(\"False\")  \n",
    "\n",
    "* Repeated 5 times for each element\n",
    "\n"
   ]
  },
  {
   "cell_type": "markdown",
   "metadata": {},
   "source": [
    "# Compare two lists\n",
    "\n",
    "    list1 = [1, 2, 3, 4, 5, 6]\n",
    "    list2 = [1, 2, 0, 4, 5, 0]\n",
    "    \n",
    "    for i in range(0, len(list1)): \n",
    "        print(\"%s %s: %s: \" % (list1[i], list2[i], list1[0] == list2[0])\n",
    "\n",
    "* What is the difference?\n",
    "\n"
   ]
  },
  {
   "cell_type": "code",
   "execution_count": null,
   "metadata": {},
   "outputs": [],
   "source": [
    "list1 = [1, 2, 3, 4, 5, 6]\n",
    "list2 = [1, 2, 0, 4, 5, 0]\n",
    "\n",
    "for i in range(0, len(list1)): \n",
    "    print(\"%s %s: %s: \" % (list1[i], list2[i], list1[i] == list2[i]))"
   ]
  },
  {
   "cell_type": "markdown",
   "metadata": {},
   "source": [
    "# Mini-Summary\n",
    "\n",
    "generarization\n",
    "\n",
    "* In order to compare the elements in **two lists**, use **for** and **if**\n",
    "\n",
    "        for <varriable> in range(0, len(<list>)):\n",
    "            if <compare elements> :\n",
    "                # process for each condition"
   ]
  },
  {
   "cell_type": "markdown",
   "metadata": {},
   "source": [
    "# Exercise Day1 Part2\n",
    "\n",
    "Compare two lists\n",
    "\n",
    "- https://gist.github.com/masaomi/b2f52f4723757d5fd1b93ed422f81923\n"
   ]
  }
 ],
 "metadata": {
  "celltoolbar": "Slideshow",
  "kernelspec": {
   "display_name": "Python 3",
   "language": "python",
   "name": "python3"
  },
  "language_info": {
   "codemirror_mode": {
    "name": "ipython",
    "version": 3
   },
   "file_extension": ".py",
   "mimetype": "text/x-python",
   "name": "python",
   "nbconvert_exporter": "python",
   "pygments_lexer": "ipython3",
   "version": "3.8.2"
  }
 },
 "nbformat": 4,
 "nbformat_minor": 1
}
